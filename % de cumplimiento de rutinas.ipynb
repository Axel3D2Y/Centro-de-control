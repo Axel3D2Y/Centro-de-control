{
 "cells": [
  {
   "cell_type": "code",
   "execution_count": 252,
   "id": "04d0a892",
   "metadata": {},
   "outputs": [],
   "source": [
    "import pandas as pd \n",
    "import numpy as np\n"
   ]
  },
  {
   "cell_type": "code",
   "execution_count": 253,
   "id": "d7ce4276",
   "metadata": {},
   "outputs": [],
   "source": [
    "def porcentaje(asignadas, realizados):\n",
    "    return (sum(realizados)/sum(asignadas))*100"
   ]
  },
  {
   "cell_type": "code",
   "execution_count": 254,
   "id": "bd6b361b",
   "metadata": {},
   "outputs": [],
   "source": [
    "rutinas = pd.read_excel(r\"C:\\Users\\centro.control\\Downloads\\CUMPLIMIENTO DE RUTINAS (25).xlsx\", header=1)\n",
    "rutinas = rutinas.dropna(subset=['ID Cedula'])"
   ]
  },
  {
   "cell_type": "code",
   "execution_count": 255,
   "id": "43808442",
   "metadata": {},
   "outputs": [
    {
     "data": {
      "text/plain": [
       "99.7"
      ]
     },
     "execution_count": 255,
     "metadata": {},
     "output_type": "execute_result"
    }
   ],
   "source": [
    "total =round(porcentaje(rutinas['Rutinas Asignadas'],rutinas['Rutinas Realizadas']),3)\n",
    "total\n"
   ]
  },
  {
   "cell_type": "code",
   "execution_count": null,
   "id": "c6e80d9b",
   "metadata": {},
   "outputs": [],
   "source": [
    "with open(\"C:\\\\Users\\\\centro.control\\\\Documents\\\\code (1) - copia.html\", \"r\", encoding=\"utf-8\") as f:\n",
    "    html = f.read()\n",
    "html = html.replace(\"{{%_de_Rutinas}}\", str(total)+\"%\")\n",
    "\n",
    "with open(\"C:\\\\Users\\\\centro.control\\\\Documents\\\\reporte_tickets.html\", \"w\", encoding=\"utf-8\") as f:\n",
    "    f.write(html)"
   ]
  },
  {
   "cell_type": "code",
   "execution_count": null,
   "id": "9625c0a7",
   "metadata": {},
   "outputs": [],
   "source": []
  }
 ],
 "metadata": {
  "kernelspec": {
   "display_name": "Python 3",
   "language": "python",
   "name": "python3"
  },
  "language_info": {
   "codemirror_mode": {
    "name": "ipython",
    "version": 3
   },
   "file_extension": ".py",
   "mimetype": "text/x-python",
   "name": "python",
   "nbconvert_exporter": "python",
   "pygments_lexer": "ipython3",
   "version": "3.13.2"
  }
 },
 "nbformat": 4,
 "nbformat_minor": 5
}
