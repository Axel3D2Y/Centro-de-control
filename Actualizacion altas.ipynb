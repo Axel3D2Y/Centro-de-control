{
 "cells": [
  {
   "cell_type": "code",
   "execution_count": 56,
   "id": "8bc6a571",
   "metadata": {},
   "outputs": [],
   "source": [
    "import pandas as pd\n",
    "import numpy as np"
   ]
  },
  {
   "cell_type": "code",
   "execution_count": 57,
   "id": "ca2ec310",
   "metadata": {},
   "outputs": [],
   "source": [
    "altas = pd.read_excel(r\"C:\\Users\\centro.control\\Desktop\\Monitor CMC\\02 ASISTENCIAS\\Altas.xlsx\")\n",
    "altas_people= pd.read_excel(r\"C:\\Users\\centro.control\\Downloads\\altas-people-center1750455503.xlsx\")\n",
    "id_sitios = pd.read_excel(r\"C:\\Users\\centro.control\\Downloads\\SitioActivosPC-06-04-2025.xlsx\")\n",
    "id_sitios= id_sitios.drop_duplicates(subset=['business_name'], keep='last')\n",
    "al, _ = altas.shape"
   ]
  },
  {
   "cell_type": "code",
   "execution_count": 58,
   "id": "befbd0e7",
   "metadata": {},
   "outputs": [],
   "source": [
    "personas = altas_people[~altas_people['Nombre completo'].isin(altas['nombre_completo'])]\n",
    "id_sitios = id_sitios.rename(columns={'business_name': 'Sitio'}).drop(columns={'site_manager'})"
   ]
  },
  {
   "cell_type": "code",
   "execution_count": 59,
   "id": "859451e5",
   "metadata": {},
   "outputs": [],
   "source": [
    "per,_=personas.shape"
   ]
  },
  {
   "cell_type": "code",
   "execution_count": 60,
   "id": "170c6ea6",
   "metadata": {},
   "outputs": [
    {
     "data": {
      "text/plain": [
       "15"
      ]
     },
     "execution_count": 60,
     "metadata": {},
     "output_type": "execute_result"
    }
   ],
   "source": [
    "per"
   ]
  },
  {
   "cell_type": "code",
   "execution_count": 61,
   "id": "7a1aa308",
   "metadata": {},
   "outputs": [],
   "source": [
    "personas= personas[['Sitio',\n",
    "                'Nombre completo',\n",
    "                'Turno',\n",
    "                'fecha de llegada al sitio'\n",
    "                ]]"
   ]
  },
  {
   "cell_type": "code",
   "execution_count": 64,
   "id": "a0c663eb",
   "metadata": {},
   "outputs": [],
   "source": [
    "personas[['candidate_id', 'employment', 'NumWeek', 'incidencia', 'Significado',\n",
    "'Asistencia', 'Tipo']] = np.nan\n",
    "personas['Nomenclatura'] = 'A'"
   ]
  },
  {
   "cell_type": "code",
   "execution_count": 65,
   "id": "ea592674",
   "metadata": {},
   "outputs": [],
   "source": [
    "personas = pd.merge(personas, id_sitios, on='Sitio', how='left')\n",
    "personas= personas.rename(\n",
    "    columns={'Sitio': 'sitio',\n",
    "            'Nombre completo': 'nombre_completo',\n",
    "            'Turno': 'turno',\n",
    "            'fecha de llegada al sitio': 'fecha',\n",
    "            'key_service': 'id'}\n",
    ")"
   ]
  },
  {
   "cell_type": "code",
   "execution_count": 66,
   "id": "76098ba4",
   "metadata": {},
   "outputs": [
    {
     "data": {
      "text/plain": [
       "Index(['sitio', 'nombre_completo', 'turno', 'fecha', 'candidate_id',\n",
       "       'employment', 'NumWeek', 'incidencia', 'Significado', 'Asistencia',\n",
       "       'Tipo', 'Nomenclatura', 'id'],\n",
       "      dtype='object')"
      ]
     },
     "execution_count": 66,
     "metadata": {},
     "output_type": "execute_result"
    }
   ],
   "source": [
    "personas.columns"
   ]
  },
  {
   "cell_type": "code",
   "execution_count": 67,
   "id": "7cf79003",
   "metadata": {},
   "outputs": [],
   "source": [
    "personas = personas[['id','candidate_id',\n",
    "        'sitio',\n",
    "        'nombre_completo',\n",
    "        'employment',\n",
    "        'turno',\n",
    "        'NumWeek',\n",
    "        'incidencia',\n",
    "        'fecha',\n",
    "        'Nomenclatura',\n",
    "        'Significado',\n",
    "        'Asistencia',\n",
    "        'Tipo']]"
   ]
  },
  {
   "cell_type": "code",
   "execution_count": 68,
   "id": "31aababf",
   "metadata": {},
   "outputs": [],
   "source": [
    "altas = pd.concat([altas,personas])"
   ]
  },
  {
   "cell_type": "code",
   "execution_count": 69,
   "id": "aa4bbae7",
   "metadata": {},
   "outputs": [
    {
     "name": "stdout",
     "output_type": "stream",
     "text": [
      "Todo correctamente\n"
     ]
    }
   ],
   "source": [
    "al_1, _=altas.shape\n",
    "if al+per == al_1:\n",
    "    print(f'Todo correctamente')\n",
    "    altas.to_excel(r\"C:\\Users\\centro.control\\Desktop\\Monitor CMC\\02 ASISTENCIAS\\Altas.xlsx\", index=False)\n",
    "else: \n",
    "    print(f'checa las cosas nuevamente')"
   ]
  },
  {
   "cell_type": "code",
   "execution_count": 70,
   "id": "a0e44038",
   "metadata": {},
   "outputs": [
    {
     "data": {
      "text/plain": [
       "5302"
      ]
     },
     "execution_count": 70,
     "metadata": {},
     "output_type": "execute_result"
    }
   ],
   "source": [
    "al_1"
   ]
  }
 ],
 "metadata": {
  "kernelspec": {
   "display_name": "Python 3",
   "language": "python",
   "name": "python3"
  },
  "language_info": {
   "codemirror_mode": {
    "name": "ipython",
    "version": 3
   },
   "file_extension": ".py",
   "mimetype": "text/x-python",
   "name": "python",
   "nbconvert_exporter": "python",
   "pygments_lexer": "ipython3",
   "version": "3.13.2"
  }
 },
 "nbformat": 4,
 "nbformat_minor": 5
}
