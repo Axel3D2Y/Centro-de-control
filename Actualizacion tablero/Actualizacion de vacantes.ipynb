{
 "cells": [
  {
   "cell_type": "code",
   "execution_count": 2,
   "id": "8990d622",
   "metadata": {},
   "outputs": [],
   "source": [
    "import pandas as pd"
   ]
  },
  {
   "cell_type": "code",
   "execution_count": 5,
   "id": "d1f8fa14",
   "metadata": {},
   "outputs": [],
   "source": [
    "tablero_vacantes= pd.read_excel(r\"C:\\Users\\centro.control\\Desktop\\Monitor CMC\\Actualizacion de informacion\\Vacantes 2025.xlsx\")\n",
    "tablero_aps = pd.read_excel(r\"C:\\Users\\centro.control\\Downloads\\TableroAps-2025-07-07.xlsx\", skiprows=[1])\n",
    "id_sitios = pd.read_excel(r\"C:\\Users\\centro.control\\Desktop\\Monitor CMC\\SitioActivosPC.xlsx\")"
   ]
  },
  {
   "cell_type": "code",
   "execution_count": 30,
   "id": "0a9ebe11",
   "metadata": {},
   "outputs": [],
   "source": [
    "id_sitios = id_sitios.rename(columns={\n",
    "    'key_service': 'id',\n",
    "    'business_name': 'Sitio'}\n",
    ")"
   ]
  },
  {
   "cell_type": "code",
   "execution_count": null,
   "id": "115c7d93",
   "metadata": {},
   "outputs": [],
   "source": [
    "def tabla_turno(turno_str):\n",
    "    # Determinar índice y nombre de columna\n",
    "    if turno_str == 'Matutino':\n",
    "        i = 6\n",
    "        aux = 'MAT'\n",
    "        turno= 'Matutino'\n",
    "\n",
    "    elif turno_str == 'Vespertino':\n",
    "        i = 9\n",
    "        aux = 'Vesp'\n",
    "        turno= 'Vespertino'\n",
    "\n",
    "    elif turno_str == 'Nocturno':\n",
    "        i = 12\n",
    "        aux = 'Noc'\n",
    "        turno= 'Nocturno'\n",
    "\n",
    "    elif turno_str == 'Mixto':\n",
    "        i = 15\n",
    "        aux = 'Mix'\n",
    "        turno= 'Mixto'\n",
    "\n",
    "    else:\n",
    "        raise ValueError(\"Turno no válido. Usa 'Matutino', 'Vespertino', 'Nocturno' o 'Mixto'.\")\n",
    "\n",
    "    # Selección y renombramiento de columnas\n",
    "    columnas = ['FECHA', 'SITIO', aux, f'Unnamed: {i}', f'Unnamed: {i+1}']\n",
    "    turno_df = tablero_aps[columnas].copy()\n",
    "\n",
    "    turno_df = turno_df.rename(columns={\n",
    "        'FECHA': 'Fecha del reporte',\n",
    "        'SITIO': 'Sitio',\n",
    "        aux: 'Plantilla',\n",
    "        f'Unnamed: {i}': 'Activos',\n",
    "        f'Unnamed: {i+1}': 'Vacante'\n",
    "    })\n",
    "\n",
    "    turno_df['Turno'] = turno\n",
    "    turno_df['Tipo'] = 'Natural'\n",
    "    turno_df['Ejecutivo'] = ''\n",
    "\n",
    "\n",
    "\n",
    "    return turno_df\n",
    "\n",
    "\n",
    "def cruzar_id(turno):\n",
    "    turno = turno.merge(id_sitios ,on='Sitio', how='left').drop('site_manager', axis=1).fillna(0)\n",
    "    turno['id'] = turno['id'].astype(int) \n",
    "    turno = turno[['id','Fecha del reporte', 'Sitio', 'Plantilla', 'Activos', 'Vacante','Turno', 'Tipo', 'Ejecutivo']]\n",
    "    return turno\n"
   ]
  },
  {
   "cell_type": "code",
   "execution_count": 32,
   "id": "4f64d793",
   "metadata": {},
   "outputs": [],
   "source": [
    "Matutino = tabla_turno('Matutino')\n",
    "Vespertino = tabla_turno('Vespertino')\n",
    "Nocturno = tabla_turno('Nocturno')\n",
    "Mixto = tabla_turno('Mixto')"
   ]
  },
  {
   "cell_type": "code",
   "execution_count": 33,
   "id": "de82d469",
   "metadata": {},
   "outputs": [],
   "source": [
    "Matutino = cruzar_id(Matutino)\n",
    "Vespertino = cruzar_id(Vespertino)\n",
    "Nocturno = cruzar_id(Nocturno)\n",
    "Mixto = cruzar_id(Mixto)"
   ]
  },
  {
   "cell_type": "code",
   "execution_count": 34,
   "id": "cc9ad387",
   "metadata": {},
   "outputs": [],
   "source": [
    "tablero_actualizado = pd.concat([tablero_vacantes, Matutino, Vespertino, Nocturno, Mixto], ignore_index=True)"
   ]
  },
  {
   "cell_type": "code",
   "execution_count": 35,
   "id": "fff91ba3",
   "metadata": {},
   "outputs": [],
   "source": [
    "tablero_actualizado['Fecha del reporte'] = pd.to_datetime(tablero_actualizado['Fecha del reporte'])\n",
    "tablero_actualizado['Fecha del reporte'] = tablero_actualizado['Fecha del reporte'].dt.date\n",
    "tablero_actualizado = tablero_actualizado.drop_duplicates()"
   ]
  },
  {
   "cell_type": "code",
   "execution_count": 36,
   "id": "cb4c6d90",
   "metadata": {},
   "outputs": [],
   "source": [
    "tablero_actualizado.to_excel(r\"C:\\Users\\centro.control\\Desktop\\Monitor CMC\\Actualizacion de informacion\\Vacantes 2025.xlsx\", index=False)"
   ]
  }
 ],
 "metadata": {
  "kernelspec": {
   "display_name": "Python 3",
   "language": "python",
   "name": "python3"
  },
  "language_info": {
   "codemirror_mode": {
    "name": "ipython",
    "version": 3
   },
   "file_extension": ".py",
   "mimetype": "text/x-python",
   "name": "python",
   "nbconvert_exporter": "python",
   "pygments_lexer": "ipython3",
   "version": "3.13.2"
  }
 },
 "nbformat": 4,
 "nbformat_minor": 5
}
