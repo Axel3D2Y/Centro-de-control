{
 "cells": [
  {
   "cell_type": "code",
   "execution_count": 7,
   "id": "9aa7b5af",
   "metadata": {},
   "outputs": [],
   "source": [
    "from dotenv import load_dotenv\n",
    "import os "
   ]
  },
  {
   "cell_type": "code",
   "execution_count": 11,
   "id": "ba23ad67",
   "metadata": {},
   "outputs": [
    {
     "data": {
      "text/plain": [
       "True"
      ]
     },
     "execution_count": 11,
     "metadata": {},
     "output_type": "execute_result"
    }
   ],
   "source": [
    "load_dotenv(r\"C:\\Users\\centro.control\\Documents\\Python\\Proyectos\\Actualizacion tablero\\Web scrapping\\.env\")"
   ]
  },
  {
   "cell_type": "code",
   "execution_count": 13,
   "id": "70ca4389",
   "metadata": {},
   "outputs": [],
   "source": [
    "db_user = os.getenv(\"user\")\n",
    "db_pass = os.getenv(\"password\")\n"
   ]
  },
  {
   "cell_type": "code",
   "execution_count": null,
   "id": "4dafe3ed",
   "metadata": {},
   "outputs": [],
   "source": [
    "login_page = \"https://www.fwm.com.mx/\"\n",
    "pass_page = \"https://www.fwm.com.mx/pages_suroS/inicio.php\""
   ]
  }
 ],
 "metadata": {
  "kernelspec": {
   "display_name": "Python 3",
   "language": "python",
   "name": "python3"
  },
  "language_info": {
   "codemirror_mode": {
    "name": "ipython",
    "version": 3
   },
   "file_extension": ".py",
   "mimetype": "text/x-python",
   "name": "python",
   "nbconvert_exporter": "python",
   "pygments_lexer": "ipython3",
   "version": "3.13.2"
  }
 },
 "nbformat": 4,
 "nbformat_minor": 5
}
