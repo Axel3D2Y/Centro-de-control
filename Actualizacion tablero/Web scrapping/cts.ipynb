{
 "cells": [
  {
   "cell_type": "code",
   "execution_count": 1,
   "id": "8597e7e2",
   "metadata": {},
   "outputs": [],
   "source": [
    "import gspread\n",
    "from oauth2client.service_account import ServiceAccountCredentials\n",
    "import pandas as pd"
   ]
  },
  {
   "cell_type": "code",
   "execution_count": 2,
   "id": "a6154714",
   "metadata": {},
   "outputs": [],
   "source": [
    "id_sitios = pd.read_excel(r\"C:\\Users\\centro.control\\Desktop\\Monitor CMC\\Sitios SAP.xlsx\")"
   ]
  },
  {
   "cell_type": "code",
   "execution_count": 3,
   "id": "434d8952",
   "metadata": {},
   "outputs": [],
   "source": [
    "credential_files = r\"C:\\Users\\centro.control\\Documents\\Python\\Proyectos\\Actualizacion tablero\\Web scrapping\\starry-strand-473423-n5-8f446379f536.json\"\n",
    "file_name = r\"Copia de Tickets de Recursos Humanos (CTS) (respuestas)\"\n",
    "sheet_name = r\"Tickets CTS RH\""
   ]
  },
  {
   "cell_type": "code",
   "execution_count": 4,
   "id": "91cc2827",
   "metadata": {},
   "outputs": [],
   "source": [
    "scope = [\"https://spreadsheets.google.com/feeds\", \"https://www.googleapis.com/auth/drive\"]"
   ]
  },
  {
   "cell_type": "code",
   "execution_count": 5,
   "id": "abb147fc",
   "metadata": {},
   "outputs": [],
   "source": [
    "credential = ServiceAccountCredentials.from_json_keyfile_name(credential_files, scope)\n",
    "gc = gspread.authorize(credential)"
   ]
  },
  {
   "cell_type": "code",
   "execution_count": 6,
   "id": "99c04f34",
   "metadata": {},
   "outputs": [],
   "source": [
    "sh = gc.open(file_name)\n",
    "worksheet= sh.worksheet(sheet_name)"
   ]
  },
  {
   "cell_type": "code",
   "execution_count": 7,
   "id": "dd96bad1",
   "metadata": {},
   "outputs": [],
   "source": [
    "data = worksheet.get_all_values()"
   ]
  },
  {
   "cell_type": "code",
   "execution_count": 8,
   "id": "f1505604",
   "metadata": {},
   "outputs": [],
   "source": [
    "cts = pd.DataFrame(data[1:], columns=data[0])"
   ]
  },
  {
   "cell_type": "code",
   "execution_count": 9,
   "id": "c11e20f2",
   "metadata": {},
   "outputs": [],
   "source": [
    "cts = pd.merge(cts, id_sitios[['SITIO','id']], left_on='Sitio', right_on='SITIO',how=\"left\")"
   ]
  },
  {
   "cell_type": "code",
   "execution_count": 10,
   "id": "e3a0e678",
   "metadata": {},
   "outputs": [],
   "source": [
    "cts.drop(columns='SITIO', inplace= True)\n",
    "cols = ['id'] + [col for col in cts.columns if col !=\"id\"]\n",
    "\n",
    "cts= cts[cols]"
   ]
  },
  {
   "cell_type": "code",
   "execution_count": 11,
   "id": "e16657fc",
   "metadata": {},
   "outputs": [],
   "source": [
    "cts = cts.rename(columns={\n",
    "    'Puesto.1':'Puesto',\n",
    "    'Sexo requerido.1':'Sexo requerido' ,\n",
    "    'Horario de trabajo.1':'Horario de trabajo' ,\n",
    "    'Rango de edad.1' : 'Rango de edad'\n",
    "})"
   ]
  },
  {
   "cell_type": "code",
   "execution_count": 12,
   "id": "cb462f53",
   "metadata": {},
   "outputs": [
    {
     "data": {
      "text/plain": [
       "Index(['id', 'FOLIO', 'Estatus', 'Fecha compromiso de cobertura', 'Procede',\n",
       "       'Marca temporal', 'Nombre y apellido de quien solicita el ticket',\n",
       "       'Puesto del que solicita el ticket', 'Sitio', 'Tipo de cobertura',\n",
       "       'Nombre Completo del Colaborador', 'Puesto', 'Puesto', 'Turno',\n",
       "       'Sexo requerido', 'Sexo requerido', 'Horario de trabajo',\n",
       "       'Horario de trabajo', 'Rango de edad', 'Rango de edad',\n",
       "       'Periodo de días de vacaciones que tomará el Colaborador (fecha inicial y fecha final) ejemplo: del 05 de enero al 13 de enero',\n",
       "       'Fecha de la baja programada', 'Motivo de la baja', 'Motivo del cambio',\n",
       "       'Puesto', 'Puesto', 'Sexo requerido', 'Sexo requerido',\n",
       "       'Horario de trabajo', 'Horario de trabajo', 'Rango de edad',\n",
       "       'Rango de edad', 'Motivo de solicitud', 'Observaciones',\n",
       "       'Fecha de cierre', 'FOLIO DE ALTA'],\n",
       "      dtype='object')"
      ]
     },
     "execution_count": 12,
     "metadata": {},
     "output_type": "execute_result"
    }
   ],
   "source": [
    "cts.columns"
   ]
  },
  {
   "cell_type": "code",
   "execution_count": 13,
   "id": "5c3d8eca",
   "metadata": {},
   "outputs": [],
   "source": [
    "cts['FOLIO'] = pd.to_numeric(cts['FOLIO'], errors= \"coerce\")"
   ]
  },
  {
   "cell_type": "code",
   "execution_count": 14,
   "id": "79c485dd",
   "metadata": {},
   "outputs": [],
   "source": [
    "cts.to_excel(r\"C:\\Users\\centro.control\\Desktop\\Monitor CMC\\04 TICKETS RH\\Tickets de Recursos Humanos (CTS) (respuestas).xlsx\", sheet_name= 'Tickets CTS RH', index=False, )"
   ]
  }
 ],
 "metadata": {
  "kernelspec": {
   "display_name": "Python 3",
   "language": "python",
   "name": "python3"
  },
  "language_info": {
   "codemirror_mode": {
    "name": "ipython",
    "version": 3
   },
   "file_extension": ".py",
   "mimetype": "text/x-python",
   "name": "python",
   "nbconvert_exporter": "python",
   "pygments_lexer": "ipython3",
   "version": "3.13.2"
  }
 },
 "nbformat": 4,
 "nbformat_minor": 5
}
