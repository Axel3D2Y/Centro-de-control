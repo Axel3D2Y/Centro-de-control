{
 "cells": [
  {
   "cell_type": "code",
   "execution_count": 267,
   "id": "6bd35ec9",
   "metadata": {},
   "outputs": [],
   "source": [
    "nomenclatura_asistencia = {\n",
    "    2:\t'X',\n",
    "    17:\t'A',\n",
    "    1:\t'1TRAB',\n",
    "    6:\t'1DFES',\n",
    "    5:\t'1VAC',\n",
    "    7:\t'1FINJ',\n",
    "    3:\t'B',\n",
    "    9:\t'1INC',\n",
    "    4:\t'C',\n",
    "    8:\t'1FJUS',\n",
    "    14:\t'CS',\n",
    "    13:\t'PGS AP',\n",
    "    12:\t'PGS SA',\n",
    "    11:\t'PSGS',\n",
    "    16:\t'PF'\n",
    "}\n",
    "\n",
    "trab = {\n",
    "    '1TRAB': 1,\n",
    "    'X': 1,\n",
    "    'RT': 1, \n",
    "    'PGS SA': 1,\n",
    "    '1DFES': 1\n",
    "}"
   ]
  },
  {
   "cell_type": "code",
   "execution_count": 268,
   "id": "70848930",
   "metadata": {},
   "outputs": [],
   "source": [
    "import pandas as pd \n",
    "import numpy as np \n",
    "from datetime import datetime, timedelta\n",
    "import gspread\n",
    "from oauth2client.service_account import ServiceAccountCredentials"
   ]
  },
  {
   "cell_type": "markdown",
   "id": "a7b7183c",
   "metadata": {},
   "source": [
    "# ACTUALIZACION DEL PATH DIARIO"
   ]
  },
  {
   "cell_type": "code",
   "execution_count": 269,
   "id": "ea640ed4",
   "metadata": {},
   "outputs": [],
   "source": [
    "#Actualizacion de path diario\n",
    "asistencia = pd.read_csv(r\"C:\\Users\\centro.control\\Downloads\\IncidenciasPC-01-10-2025-al-27-10-2025.xls\", sep='\\t') #asistencia diaria\n",
    "altas_people= pd.read_excel(r\"C:\\Users\\centro.control\\Downloads\\altas-people-center1761665576.xlsx\") #altas diarias\n",
    "bajas_people = pd.read_excel(r\"C:\\Users\\centro.control\\Downloads\\bajas-indicadores-people-center1761665579.xlsx\") #bajas diarias\n",
    "ub = pd.read_excel(r\"C:\\Users\\centro.control\\Downloads\\activos-universida-bennetts28-10-2025_9_36am.xlsx\",  converters={\"usuario\": lambda x: str(x)}) #universidad bennetts diaria"
   ]
  },
  {
   "cell_type": "markdown",
   "id": "8821c6a8",
   "metadata": {},
   "source": [
    "# ACUMULADOS"
   ]
  },
  {
   "cell_type": "code",
   "execution_count": 270,
   "id": "877eb265",
   "metadata": {},
   "outputs": [],
   "source": [
    "id_sitios = pd.read_excel(r\"C:\\Users\\centro.control\\Desktop\\Monitor CMC\\Sitios SAP.xlsx\") # id sitios\n",
    "altas = pd.read_excel(r\"C:\\Users\\centro.control\\Desktop\\Monitor CMC\\02 ASISTENCIAS\\Altas.xlsx\") #altas acumuladas\n",
    "bajas = pd.read_excel(r\"C:\\Users\\centro.control\\Desktop\\Monitor CMC\\02 ASISTENCIAS\\Bajas.xlsx\") #bajas acumuladas\n",
    "ub_mes  = pd.read_excel(r\"C:\\Users\\centro.control\\Desktop\\Monitor CMC\\08 UNIVERSIDAD BENNETTS\\10 Octubre 2025.xlsx\") #Universidad bennetts acumulada"
   ]
  },
  {
   "cell_type": "code",
   "execution_count": 271,
   "id": "347e20df",
   "metadata": {},
   "outputs": [],
   "source": [
    "id_sitios = id_sitios[['SAP','NOMBRE COMERCIAL','id','SITIO','tipo', 'EJECUTIVO OPS 2025']] "
   ]
  },
  {
   "cell_type": "markdown",
   "id": "bfb7179c",
   "metadata": {},
   "source": [
    "# ACTUALIZACIÓN DE CADA SECCION"
   ]
  },
  {
   "cell_type": "markdown",
   "id": "f37735ef",
   "metadata": {},
   "source": [
    "## ALTAS"
   ]
  },
  {
   "cell_type": "code",
   "execution_count": 272,
   "id": "1e24dd47",
   "metadata": {},
   "outputs": [],
   "source": [
    "personas = altas_people[~altas_people['Nombre completo'].isin(altas['nombre_completo'])]"
   ]
  },
  {
   "cell_type": "code",
   "execution_count": 273,
   "id": "00b4dd48",
   "metadata": {},
   "outputs": [],
   "source": [
    "personas= personas[['Sitio',\n",
    "                'Nombre completo',\n",
    "                'Turno',\n",
    "                'fecha de llegada al sitio'\n",
    "                ]]\n",
    "personas[['candidate_id', 'empleo','no_semana', 'incidencia', 'asistencia']] = np.nan\n",
    "personas['Nomenclatura'] = 'A'\n",
    "personas[['validacion', 'asistencia']] = 1"
   ]
  },
  {
   "cell_type": "code",
   "execution_count": 274,
   "id": "c396c321",
   "metadata": {},
   "outputs": [],
   "source": [
    "personas = pd.merge(personas, id_sitios, left_on='Sitio', right_on='NOMBRE COMERCIAL', how='left')"
   ]
  },
  {
   "cell_type": "code",
   "execution_count": 275,
   "id": "0edc2a16",
   "metadata": {},
   "outputs": [],
   "source": [
    "personas= personas.rename(\n",
    "    columns={'SITIO': 'sitio',\n",
    "            'Nombre completo': 'nombre_completo',\n",
    "            'Turno': 'turno',\n",
    "            'fecha de llegada al sitio': 'fecha',\n",
    "            'Nomenclatura': 'nomenclatura',\n",
    "            'Sitio': 'sitio sap',\n",
    "            'EJECUTIVO OPS 2025': 'ejecutivo'\n",
    "    }\n",
    ")\n",
    "personas = personas[['id', 'candidate_id', 'sitio', 'nombre_completo', 'empleo', 'turno',\n",
    "    'no_semana', 'incidencia', 'fecha', 'nomenclatura','sitio sap','SAP','tipo', 'validacion', 'asistencia', 'ejecutivo']]"
   ]
  },
  {
   "cell_type": "code",
   "execution_count": 276,
   "id": "afa53d96",
   "metadata": {},
   "outputs": [],
   "source": [
    "altas = pd.concat([altas,personas])"
   ]
  },
  {
   "cell_type": "markdown",
   "id": "8914944b",
   "metadata": {},
   "source": [
    "## ASISTENCIA"
   ]
  },
  {
   "cell_type": "code",
   "execution_count": 277,
   "id": "8329fde1",
   "metadata": {},
   "outputs": [],
   "source": [
    "# renombra la columna del id por candidate_id, para evitar problemas al unir con los sitios y no confundir id de la persona con id del sitio \n",
    "asistencia = asistencia.rename(columns={\n",
    "        'id':'candidate_id'\n",
    "})"
   ]
  },
  {
   "cell_type": "code",
   "execution_count": 278,
   "id": "ed48bad9",
   "metadata": {},
   "outputs": [],
   "source": [
    "#cruzamos la tablausando el nombre comercial como id\n",
    "asistencia= asistencia.merge(id_sitios, left_on='sitio', right_on='NOMBRE COMERCIAL', how='left').drop(columns=['NOMBRE COMERCIAL'])\n",
    "\n",
    "asistencia = asistencia[~ asistencia['incidencia'].isin([17,3])] #quitamos las {bajas: 17, altas:3 }"
   ]
  },
  {
   "cell_type": "code",
   "execution_count": 279,
   "id": "349f2bf3",
   "metadata": {},
   "outputs": [],
   "source": [
    "# Funciones para mapear nomenclatura y asistencia\n",
    "# cambia la incidencia por la nomenclatura correspondiente, es decir, si tiene una incidencia numerica, la cambia por una nomenclatura del diccionario nomenclatura_asistencia\n",
    "def nomenclatura(incidencia):\n",
    "    return nomenclatura_asistencia.get(incidencia,None)\n",
    "asistencia['nomenclatura'] = list(map(nomenclatura,asistencia['incidencia']))\n",
    "# cambia la nomenclatura por 1 o 0 dependiendo si la nomenclatura cuenta o no para la asistencia. \n",
    "def work(job):\n",
    "    return trab.get(job,0)\n",
    "asistencia['asistencia'] = list(map(work,asistencia['nomenclatura']))\n",
    "asistencia['validacion'] = asistencia['asistencia']\n"
   ]
  },
  {
   "cell_type": "code",
   "execution_count": 280,
   "id": "77b51051",
   "metadata": {},
   "outputs": [],
   "source": [
    "#renombrar columnas \n",
    "asistencia = asistencia.rename(\n",
    "    columns={\n",
    "        'sitio': 'sitio sap',\n",
    "        'EJECUTIVO OPS 2025': 'ejecutivo',\n",
    "        'SITIO': 'sitio'\n",
    "    }\n",
    ")"
   ]
  },
  {
   "cell_type": "code",
   "execution_count": 281,
   "id": "28610721",
   "metadata": {},
   "outputs": [],
   "source": [
    "# Filtrar y reordenar columnas\n",
    "asistencia= asistencia[[\n",
    "    'id','candidate_id','sitio', 'nombre_completo','empleo','turno',\n",
    "    'no_semana','incidencia','fecha','nomenclatura','sitio sap',\n",
    "    'SAP','tipo','validacion',\t'asistencia','ejecutivo']]"
   ]
  },
  {
   "cell_type": "code",
   "execution_count": 282,
   "id": "3150fbd5",
   "metadata": {},
   "outputs": [],
   "source": [
    "asistencia = asistencia.drop_duplicates()\n"
   ]
  },
  {
   "cell_type": "markdown",
   "id": "92d5f44b",
   "metadata": {},
   "source": [
    "## BAJAS"
   ]
  },
  {
   "cell_type": "code",
   "execution_count": 283,
   "id": "70e7e677",
   "metadata": {},
   "outputs": [],
   "source": [
    "#Eliminar los nombres duplicados de las bajas de people center \n",
    "bajas_people = bajas_people.drop_duplicates(subset=['Nombre'], keep = 'last')"
   ]
  },
  {
   "cell_type": "code",
   "execution_count": 284,
   "id": "49e5ef74",
   "metadata": {},
   "outputs": [],
   "source": [
    "#Buscamos a las personas que aun no han sido dadas de baja en el acumulado de bajas, pero que se presentan como nuevas bajas en el documento que se descargaron de people center\n",
    "personas_bajas = bajas_people[~bajas_people['Nombre'].isin(bajas['nombre_completo'])].copy()"
   ]
  },
  {
   "cell_type": "code",
   "execution_count": 285,
   "id": "10f3752b",
   "metadata": {},
   "outputs": [],
   "source": [
    "#rellenar columnnas faltantes para que tengan el mismo formato que la asistencia y altas\n",
    "personas_bajas= personas_bajas[['Sitio',\n",
    "                'Nombre',\n",
    "                'Turno',\n",
    "                'ULTIMO DIA TRABAJADO'\n",
    "                ]]\n",
    "personas_bajas[['candidate_id', 'empleo', 'no_semana', 'incidencia']] = np.nan\n",
    "personas_bajas['Nomenclatura'] = 'B'\n",
    "personas_bajas[['validacion','asistencia']] = 1"
   ]
  },
  {
   "cell_type": "code",
   "execution_count": 286,
   "id": "4961b214",
   "metadata": {},
   "outputs": [],
   "source": [
    "#cruzamos las tablas para buscar el id del sitio, el nombre del sitio, ejecutivo y tipo\n",
    "personas_bajas = pd.merge(personas_bajas, id_sitios, left_on='Sitio', right_on='NOMBRE COMERCIAL', how='left')\n"
   ]
  },
  {
   "cell_type": "code",
   "execution_count": 287,
   "id": "01d1f6df",
   "metadata": {},
   "outputs": [],
   "source": [
    "#simplemente renombramos las columnas para que coincidan con el formato final\n",
    "personas_bajas= personas_bajas.rename(\n",
    "    columns={'SITIO': 'sitio',\n",
    "            'Nombre': 'nombre_completo',\n",
    "            'Turno': 'turno',\n",
    "            'ULTIMO DIA TRABAJADO': 'fecha',\n",
    "            'Nomenclatura': 'nomenclatura',\n",
    "            'NOMBRE COMERCIAL': 'sitio sap',\n",
    "            'EJECUTIVO OPS 2025': 'ejecutivo'\n",
    "            }\n",
    ")\n",
    "# Reordenamos las columnas para tener el mismo formato que las otras tablas\n",
    "personas_bajas= personas_bajas[['id', 'candidate_id', 'sitio','nombre_completo',\n",
    "            'empleo', 'turno','no_semana', 'incidencia', 'fecha',\n",
    "            'nomenclatura', 'sitio sap', 'SAP','tipo', 'validacion', 'asistencia', 'ejecutivo']]"
   ]
  },
  {
   "cell_type": "code",
   "execution_count": 288,
   "id": "4ac233df",
   "metadata": {},
   "outputs": [],
   "source": [
    "bajas = pd.concat([bajas, personas_bajas], ignore_index=True)"
   ]
  },
  {
   "cell_type": "markdown",
   "id": "20713880",
   "metadata": {},
   "source": [
    "## UNIVERSIDAD BENNETTS"
   ]
  },
  {
   "cell_type": "code",
   "execution_count": 289,
   "id": "b7deacdd",
   "metadata": {},
   "outputs": [],
   "source": [
    "ayer = (datetime.today()- timedelta(days=1)).strftime('%d/%m/%Y')\n",
    "ub['fecha llegada al sitio'] = pd.to_datetime(ub['fecha llegada al sitio'], errors='coerce')\n",
    "ub['Fecha del reporte'] = ayer"
   ]
  },
  {
   "cell_type": "code",
   "execution_count": 290,
   "id": "8c052bf9",
   "metadata": {},
   "outputs": [],
   "source": [
    "ub['Más de 15 días'] = np.where(ub['fecha llegada al sitio']< (datetime.today() - timedelta(days=15)), 1, 0)\n",
    "ub['Más de 30 días'] = np.where(ub['fecha llegada al sitio']< (datetime.today() - timedelta(days=30)), 1, 0)"
   ]
  },
  {
   "cell_type": "code",
   "execution_count": 291,
   "id": "494f3a11",
   "metadata": {},
   "outputs": [],
   "source": [
    "ub = pd.merge(ub, id_sitios, left_on='sitio', right_on='NOMBRE COMERCIAL', how='left').drop(columns=['NOMBRE COMERCIAL','sitio']).rename(columns={'SITIO': 'sitio', 'Unnamed: 14': 'Certificado','fecha c. supervisor/operador':'fecha c. supervisor/operados'})"
   ]
  },
  {
   "cell_type": "code",
   "execution_count": 292,
   "id": "03f59964",
   "metadata": {},
   "outputs": [],
   "source": [
    "ub.rename(columns={'EJECUTIVO OPS 2025': 'ejecutivo'}, inplace=True)"
   ]
  },
  {
   "cell_type": "code",
   "execution_count": 293,
   "id": "a64edbbe",
   "metadata": {},
   "outputs": [],
   "source": [
    "ub=ub[[\n",
    "    'id','Fecha del reporte','Folio de alta','nombre_completo', 'sitio', 'turno', 'empleo',\n",
    "    'usuario','contraseña','fecha llegada al sitio','c supervisor/operador','fecha c. supervisor/operados',\n",
    "    'c. seguridad y higiene', 'fecha c. seguridad y higiene', 'c. key quimica', 'fecha c. key quimica', 'Certificado',\n",
    "    'Más de 15 días', 'Más de 30 días','ejecutivo'\n",
    "]]"
   ]
  },
  {
   "cell_type": "code",
   "execution_count": 294,
   "id": "f5d31342",
   "metadata": {},
   "outputs": [],
   "source": [
    "ub_mes = pd.concat([ub, ub_mes], ignore_index=True).drop_duplicates(keep='last')"
   ]
  },
  {
   "cell_type": "markdown",
   "id": "ee159776",
   "metadata": {},
   "source": [
    "## CEDULAS DE SERVICIO"
   ]
  },
  {
   "cell_type": "code",
   "execution_count": 295,
   "id": "576817b8",
   "metadata": {},
   "outputs": [],
   "source": [
    "field  = pd.read_excel(r\"C:\\Users\\centro.control\\Desktop\\Monitor CMC\\01 CEDULAS DE FIELD\\10 de Octubre 2025.xlsx\")\n",
    "field_nuevos  = pd.read_excel(r\"C:\\Users\\centro.control\\Downloads\\CUMPLIMIENTO DE RUTINAS - 2025-10-28T093738.879.xlsx\", header=[1])"
   ]
  },
  {
   "cell_type": "code",
   "execution_count": 296,
   "id": "b3516edc",
   "metadata": {},
   "outputs": [],
   "source": [
    "field_nuevos['rutinas realizadas reales'] = field_nuevos['Rutinas Realizadas']\n",
    "field_nuevos[' % de cumplimiento real'] =  field_nuevos['rutinas realizadas reales']/field_nuevos['Rutinas Asignadas']"
   ]
  },
  {
   "cell_type": "code",
   "execution_count": 297,
   "id": "eca7fd78",
   "metadata": {},
   "outputs": [],
   "source": [
    "field_nuevos = pd.merge(field_nuevos, id_sitios[['SITIO','EJECUTIVO OPS 2025']], left_on='Sitio', right_on= 'SITIO', how='left').drop(columns='SITIO').rename(columns={'EJECUTIVO OPS 2025': 'Ejecutivo', 'ID Sitio People Center': 'id'})"
   ]
  },
  {
   "cell_type": "code",
   "execution_count": 298,
   "id": "1f686b19",
   "metadata": {},
   "outputs": [],
   "source": [
    "field_nuevos = field_nuevos[['ID Cedula', 'id', 'Sitio', 'Turno', 'Día', 'Fecha Entrada',\n",
    "    'Hora Entrada', 'Fecha Salida', 'Hora Salida', 'Objetivo Rutinas',\n",
    "    'Rutinas Asignadas', 'Rutinas Realizadas', 'Geolocalización',\n",
    "    'Ejecutivo', 'rutinas realizadas reales', ' % de cumplimiento real']]"
   ]
  },
  {
   "cell_type": "code",
   "execution_count": 299,
   "id": "68ac13f3",
   "metadata": {},
   "outputs": [],
   "source": [
    "field = pd.concat([field,field_nuevos])"
   ]
  },
  {
   "cell_type": "code",
   "execution_count": 300,
   "id": "1b6e4e30",
   "metadata": {},
   "outputs": [],
   "source": [
    "field['Fecha Entrada'] = field['Fecha Entrada'].dt.date\n",
    "field['Fecha Salida'] = field['Fecha Salida'].dt.date"
   ]
  },
  {
   "cell_type": "code",
   "execution_count": 301,
   "id": "73f654cb",
   "metadata": {},
   "outputs": [],
   "source": [
    "field = field.drop_duplicates(subset=['Sitio', 'Turno', 'Fecha Entrada'], keep='last', ignore_index=True)\n",
    "field =  field[field['Sitio'] != 'PRUEBAS TECH2B']"
   ]
  },
  {
   "cell_type": "markdown",
   "id": "8e89e165",
   "metadata": {},
   "source": [
    "# CTS"
   ]
  },
  {
   "cell_type": "code",
   "execution_count": 302,
   "id": "63d9857e",
   "metadata": {},
   "outputs": [],
   "source": [
    "credential_files = r\"C:\\Users\\centro.control\\Documents\\Python\\Proyectos\\Actualizacion tablero\\Web scrapping\\starry-strand-473423-n5-8f446379f536.json\"\n",
    "file_name = r\"Copia de Tickets de Recursos Humanos (CTS) (respuestas)\"\n",
    "sheet_name = r\"Tickets CTS RH\""
   ]
  },
  {
   "cell_type": "code",
   "execution_count": 303,
   "id": "25edc31f",
   "metadata": {},
   "outputs": [],
   "source": [
    "scope = [\"https://spreadsheets.google.com/feeds\", \"https://www.googleapis.com/auth/drive\"]"
   ]
  },
  {
   "cell_type": "code",
   "execution_count": 304,
   "id": "15711875",
   "metadata": {},
   "outputs": [],
   "source": [
    "credential = ServiceAccountCredentials.from_json_keyfile_name(credential_files, scope)\n",
    "gc = gspread.authorize(credential)"
   ]
  },
  {
   "cell_type": "code",
   "execution_count": 305,
   "id": "05324a53",
   "metadata": {},
   "outputs": [],
   "source": [
    "sh = gc.open(file_name)\n",
    "worksheet= sh.worksheet(sheet_name)\n",
    "data = worksheet.get_all_values()\n",
    "cts = pd.DataFrame(data[1:], columns=data[0])\n",
    "cts = pd.merge(cts, id_sitios[['SITIO','id']], left_on='Sitio', right_on='SITIO',how=\"left\")\n",
    "cts.drop(columns='SITIO', inplace= True)\n",
    "cols = ['id'] + [col for col in cts.columns if col !=\"id\"]\n",
    "cts= cts[cols]\n",
    "cts = cts.rename(columns={\n",
    "    'Puesto.1':'Puesto',\n",
    "    'Sexo requerido.1':'Sexo requerido' ,\n",
    "    'Horario de trabajo.1':'Horario de trabajo' ,\n",
    "    'Rango de edad.1' : 'Rango de edad'\n",
    "})"
   ]
  },
  {
   "cell_type": "code",
   "execution_count": 306,
   "id": "3000e217",
   "metadata": {},
   "outputs": [],
   "source": [
    "cts['FOLIO'] = pd.to_numeric(cts['FOLIO'], errors= \"coerce\")"
   ]
  },
  {
   "cell_type": "markdown",
   "id": "b21fb36c",
   "metadata": {},
   "source": [
    "<!-- # CTS -->\n"
   ]
  },
  {
   "cell_type": "markdown",
   "id": "76cb9fab",
   "metadata": {},
   "source": [
    "# GUARDAR DATOS"
   ]
  },
  {
   "cell_type": "code",
   "execution_count": null,
   "id": "17de3d23",
   "metadata": {},
   "outputs": [],
   "source": [
    "# altas.to_excel(r\"C:\\Users\\centro.control\\Desktop\\Monitor CMC\\02 ASISTENCIAS\\Altas.xlsx\", sheet_name='Hoja1', index=False)\n",
    "# asistencia.to_excel(r\"C:\\Users\\centro.control\\Desktop\\Monitor CMC\\02 ASISTENCIAS\\10 Octubre 2025.xlsx\", sheet_name=\"Hoja1\", index=False)\n",
    "# bajas.to_excel(r\"C:\\Users\\centro.control\\Desktop\\Monitor CMC\\02 ASISTENCIAS\\Bajas.xlsx\", sheet_name=\"Hoja1\", index=False)\n",
    "# ub_mes.to_excel(r\"C:\\Users\\centro.control\\Desktop\\Monitor CMC\\08 UNIVERSIDAD BENNETTS\\10 Octubre 2025.xlsx\", index=False, sheet_name='Hoja1')\n",
    "# field.to_excel(r\"C:\\Users\\centro.control\\Desktop\\Monitor CMC\\01 CEDULAS DE FIELD\\10 de Octubre 2025.xlsx\", index=False, sheet_name=\"Hoja1\")\n",
    "# cts.to_excel(r\"C:\\Users\\centro.control\\Desktop\\Monitor CMC\\04 TICKETS RH\\Tickets de Recursos Humanos (CTS) (respuestas).xlsx\", sheet_name= 'Tickets CTS RH', index=False)"
   ]
  }
 ],
 "metadata": {
  "kernelspec": {
   "display_name": "Python 3",
   "language": "python",
   "name": "python3"
  },
  "language_info": {
   "codemirror_mode": {
    "name": "ipython",
    "version": 3
   },
   "file_extension": ".py",
   "mimetype": "text/x-python",
   "name": "python",
   "nbconvert_exporter": "python",
   "pygments_lexer": "ipython3",
   "version": "3.13.2"
  }
 },
 "nbformat": 4,
 "nbformat_minor": 5
}
