{
 "cells": [
  {
   "cell_type": "code",
   "execution_count": 1,
   "id": "fe08667e",
   "metadata": {},
   "outputs": [],
   "source": [
    "import pandas as pd\n",
    "import datetime as dt"
   ]
  },
  {
   "cell_type": "code",
   "execution_count": 2,
   "id": "670f91aa",
   "metadata": {},
   "outputs": [],
   "source": [
    "tablero_vacantes= pd.read_excel(r\"C:\\Users\\centro.control\\Desktop\\Monitor CMC\\Actualizacion de informacion\\Vacantes 2025.xlsx\")\n",
    "                            \n",
    "tablero_aps = pd.read_excel(r\"C:\\Users\\centro.control\\Downloads\\TableroAps-2025-07-16.xlsx\", skiprows=[1])\n",
    "nuevos_nombres = pd.read_excel(r\"C:\\Users\\centro.control\\Desktop\\Monitor CMC\\Sitios SAP.xlsx\")"
   ]
  },
  {
   "cell_type": "code",
   "execution_count": 3,
   "id": "aac566a6",
   "metadata": {},
   "outputs": [],
   "source": [
    "criterio_aps =(pd.to_datetime(tablero_aps['FECHA'].max())).date()\n",
    "criterio_tablero =  (tablero_vacantes['Fecha del reporte'].max()).date()\n"
   ]
  },
  {
   "cell_type": "code",
   "execution_count": 4,
   "id": "44492185",
   "metadata": {},
   "outputs": [],
   "source": [
    "nombre_sap = nuevos_nombres[['SITIO','Nombre Comercial']]"
   ]
  },
  {
   "cell_type": "code",
   "execution_count": 5,
   "id": "964df977",
   "metadata": {},
   "outputs": [],
   "source": [
    "tablero_aps = tablero_aps.merge(nombre_sap, on='SITIO', how='left')\n",
    "tablero_aps['SITIO'] = tablero_aps['Nombre Comercial']\n",
    "tablero_aps= tablero_aps.drop(columns=['Nombre Comercial'])"
   ]
  },
  {
   "cell_type": "code",
   "execution_count": 6,
   "id": "e7b2c5b5",
   "metadata": {},
   "outputs": [],
   "source": [
    "nuevos_nombres = nuevos_nombres.rename(columns={\n",
    "    'Nombre Comercial': 'Sitio'\n",
    "})"
   ]
  },
  {
   "cell_type": "code",
   "execution_count": 7,
   "id": "56e598d9",
   "metadata": {},
   "outputs": [],
   "source": [
    "def tabla_turno(turno_str):\n",
    "    # Determinar índice y nombre de columna\n",
    "    if turno_str == 'Matutino':\n",
    "        i = 6\n",
    "        aux = 'MAT'\n",
    "        turno= 'Matutino'\n",
    "\n",
    "    elif turno_str == 'Vespertino':\n",
    "        i = 9\n",
    "        aux = 'Vesp'\n",
    "        turno= 'Vespertino'\n",
    "\n",
    "    elif turno_str == 'Nocturno':\n",
    "        i = 12\n",
    "        aux = 'Noc'\n",
    "        turno= 'Nocturno'\n",
    "\n",
    "    elif turno_str == 'Mixto':\n",
    "        i = 15\n",
    "        aux = 'Mix'\n",
    "        turno= 'Mixto'\n",
    "\n",
    "    else:\n",
    "        raise ValueError(\"Turno no válido. Usa 'Matutino', 'Vespertino', 'Nocturno' o 'Mixto'.\")\n",
    "\n",
    "    # Selección y renombramiento de columnas\n",
    "    columnas = ['FECHA', 'SITIO', aux, f'Unnamed: {i}', f'Unnamed: {i+1}']\n",
    "    turno_df = tablero_aps[columnas].copy()\n",
    "\n",
    "    turno_df = turno_df.rename(columns={\n",
    "        'FECHA': 'Fecha del reporte',\n",
    "        'SITIO': 'Sitio',\n",
    "        aux: 'Plantilla',\n",
    "        f'Unnamed: {i}': 'Activos',\n",
    "        f'Unnamed: {i+1}': 'Vacante'\n",
    "    })\n",
    "\n",
    "    turno_df['Turno'] = turno\n",
    "    turno_df['Tipo'] = 'Natural'\n",
    "    turno_df['Ejecutivo'] = ''\n",
    "\n",
    "    return turno_df\n",
    "\n",
    "\n",
    "def cruzar_id(turno):\n",
    "    turno = turno.merge(nuevos_nombres ,on='Sitio', how='left').drop(['SAP', 'Razón Social OK', 'RFC'], axis=1).fillna(0)\n",
    "    turno['id'] = turno['id'].astype(int) \n",
    "    turno = turno[['id','Fecha del reporte', 'Sitio', 'Plantilla', 'Activos', 'Vacante','Turno', 'Tipo', 'Ejecutivo']]\n",
    "    return turno"
   ]
  },
  {
   "cell_type": "code",
   "execution_count": 8,
   "id": "a84d3171",
   "metadata": {},
   "outputs": [],
   "source": [
    "Matutino = tabla_turno('Matutino')\n",
    "Vespertino = tabla_turno('Vespertino')\n",
    "Nocturno = tabla_turno('Nocturno')\n",
    "Mixto = tabla_turno('Mixto')"
   ]
  },
  {
   "cell_type": "code",
   "execution_count": 9,
   "id": "043e0590",
   "metadata": {},
   "outputs": [],
   "source": [
    "Matutino = cruzar_id(Matutino)\n",
    "Vespertino = cruzar_id(Vespertino)\n",
    "Nocturno = cruzar_id(Nocturno)\n",
    "Mixto = cruzar_id(Mixto)"
   ]
  },
  {
   "cell_type": "code",
   "execution_count": 10,
   "id": "cb028baf",
   "metadata": {},
   "outputs": [],
   "source": [
    "tablero_actualizado = pd.concat([tablero_vacantes, Matutino, Vespertino, Nocturno, Mixto], ignore_index=True)"
   ]
  },
  {
   "cell_type": "code",
   "execution_count": 11,
   "id": "40c9fcfb",
   "metadata": {},
   "outputs": [],
   "source": [
    "tablero_actualizado['Fecha del reporte'] = pd.to_datetime(tablero_actualizado['Fecha del reporte'])\n",
    "tablero_actualizado['Fecha del reporte'] = tablero_actualizado['Fecha del reporte'].dt.date\n",
    "tablero_actualizado = tablero_actualizado.drop_duplicates()"
   ]
  },
  {
   "cell_type": "code",
   "execution_count": null,
   "id": "815370bc",
   "metadata": {},
   "outputs": [],
   "source": []
  },
  {
   "cell_type": "code",
   "execution_count": 12,
   "id": "031ff468",
   "metadata": {},
   "outputs": [],
   "source": [
    "if criterio_aps == criterio_tablero: \n",
    "        print('No se pudo actualizar la información')\n",
    "else:\n",
    "    tablero_actualizado.to_excel(r\"C:\\Users\\centro.control\\Desktop\\Monitor CMC\\Actualizacion de informacion\\Vacantes 2025.xlsx\", index=False)"
   ]
  },
  {
   "cell_type": "code",
   "execution_count": null,
   "id": "18cb3685",
   "metadata": {},
   "outputs": [],
   "source": []
  }
 ],
 "metadata": {
  "kernelspec": {
   "display_name": "Python 3",
   "language": "python",
   "name": "python3"
  },
  "language_info": {
   "codemirror_mode": {
    "name": "ipython",
    "version": 3
   },
   "file_extension": ".py",
   "mimetype": "text/x-python",
   "name": "python",
   "nbconvert_exporter": "python",
   "pygments_lexer": "ipython3",
   "version": "3.13.2"
  }
 },
 "nbformat": 4,
 "nbformat_minor": 5
}
