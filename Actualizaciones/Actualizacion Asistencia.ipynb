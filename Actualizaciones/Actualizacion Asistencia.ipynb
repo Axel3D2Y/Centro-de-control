{
 "cells": [
  {
   "cell_type": "code",
   "execution_count": 1,
   "id": "6e473305",
   "metadata": {},
   "outputs": [],
   "source": [
    "import pandas as pd\n",
    "import numpy as np"
   ]
  },
  {
   "cell_type": "code",
   "execution_count": 2,
   "id": "7202fae3",
   "metadata": {},
   "outputs": [],
   "source": [
    "nomenclatura_asistencia = {\n",
    "    2:\t'X',\n",
    "    17:\t'A',\n",
    "    1:\t'1TRAB',\n",
    "    6:\t'1DFES',\n",
    "    5:\t'1VAC',\n",
    "    7:\t'1FINJ',\n",
    "    3:\t'B',\n",
    "    9:\t'1INC',\n",
    "    4:\t'C',\n",
    "    8:\t'1FJUS',\n",
    "    14:\t'CS',\n",
    "    13:\t'PGS AP',\n",
    "    12:\t'PGS SA',\n",
    "    11:\t'PSGS',\n",
    "    16:\t'PF'\n",
    "}\n",
    "\n",
    "\n",
    "\n",
    "trab = {\n",
    "    '1TRAB': 1,\n",
    "    'X': 1,\n",
    "    'RT': 1, \n",
    "    'PGS SA': 1,\n",
    "    '1DFES': 1\n",
    "}"
   ]
  },
  {
   "cell_type": "code",
   "execution_count": 3,
   "id": "3b97667c",
   "metadata": {},
   "outputs": [],
   "source": [
    "asistencia = pd.read_csv(r\"C:\\Users\\centro.control\\Downloads\\IncidenciasPC-01-07-2025-al-20-07-2025.xls\", sep='\\t')\n",
    "id_sitios = pd.read_excel(r\"C:\\Users\\centro.control\\Desktop\\Monitor CMC\\Sitios SAP.xlsx\")"
   ]
  },
  {
   "cell_type": "code",
   "execution_count": 4,
   "id": "230f4e07",
   "metadata": {},
   "outputs": [],
   "source": [
    "id_sitios = id_sitios.rename(columns={\n",
    "    'SITIO': 'sitio'\n",
    "})\n",
    "asistencia = asistencia.rename(columns={\n",
    "        'id':'candidate_id'\n",
    "})"
   ]
  },
  {
   "cell_type": "code",
   "execution_count": 5,
   "id": "c1cfb15b",
   "metadata": {},
   "outputs": [],
   "source": [
    "id_sitios= id_sitios[['SAP','Nombre Comercial','id', 'sitio']]\n",
    "asistencia= asistencia.merge(id_sitios, on='sitio', how='left')\n",
    "asistencia = asistencia[~ asistencia['incidencia'].isin([17,3])] #quitamos las {bajas: 17, altas:3 }"
   ]
  },
  {
   "cell_type": "code",
   "execution_count": null,
   "id": "39583801",
   "metadata": {},
   "outputs": [],
   "source": [
    "def nomenclatura(incidencia):\n",
    "    return nomenclatura_asistencia.get(incidencia,None)\n",
    "\n",
    "asistencia['nomenclatura'] = list(map(nomenclatura,asistencia['incidencia']))\n",
    "\n"
   ]
  },
  {
   "cell_type": "code",
   "execution_count": 7,
   "id": "c312ad19",
   "metadata": {},
   "outputs": [],
   "source": [
    "def work(job):\n",
    "    return trab.get(job,0)\n",
    "asistencia['asistencia'] = list(map(work,asistencia['nomenclatura']))"
   ]
  },
  {
   "cell_type": "code",
   "execution_count": 8,
   "id": "5c8cfe41",
   "metadata": {},
   "outputs": [],
   "source": [
    "asistencia = asistencia.rename(\n",
    "    columns={\n",
    "        'sitio': 'sitio sap',\n",
    "        'Nombre Comercial': 'sitio'\n",
    "    }\n",
    ") "
   ]
  },
  {
   "cell_type": "code",
   "execution_count": 9,
   "id": "792140c2",
   "metadata": {},
   "outputs": [],
   "source": [
    "asistencia= asistencia[['id','candidate_id','sitio', 'nombre_completo','empleo','turno','no_semana','incidencia','fecha','nomenclatura','asistencia','sitio sap','SAP']]"
   ]
  },
  {
   "cell_type": "code",
   "execution_count": 10,
   "id": "8f40fd90",
   "metadata": {},
   "outputs": [
    {
     "data": {
      "text/html": [
       "<div>\n",
       "<style scoped>\n",
       "    .dataframe tbody tr th:only-of-type {\n",
       "        vertical-align: middle;\n",
       "    }\n",
       "\n",
       "    .dataframe tbody tr th {\n",
       "        vertical-align: top;\n",
       "    }\n",
       "\n",
       "    .dataframe thead th {\n",
       "        text-align: right;\n",
       "    }\n",
       "</style>\n",
       "<table border=\"1\" class=\"dataframe\">\n",
       "  <thead>\n",
       "    <tr style=\"text-align: right;\">\n",
       "      <th></th>\n",
       "      <th>id</th>\n",
       "      <th>candidate_id</th>\n",
       "      <th>sitio</th>\n",
       "      <th>nombre_completo</th>\n",
       "      <th>empleo</th>\n",
       "      <th>turno</th>\n",
       "      <th>no_semana</th>\n",
       "      <th>incidencia</th>\n",
       "      <th>fecha</th>\n",
       "      <th>nomenclatura</th>\n",
       "      <th>asistencia</th>\n",
       "      <th>sitio sap</th>\n",
       "      <th>SAP</th>\n",
       "    </tr>\n",
       "  </thead>\n",
       "  <tbody>\n",
       "    <tr>\n",
       "      <th>507</th>\n",
       "      <td>125.0</td>\n",
       "      <td>22656</td>\n",
       "      <td>COLEGIO MONTEVERDE</td>\n",
       "      <td>PAVON TARANGO MAITE IRENE</td>\n",
       "      <td>OPERADOR DE LIMPIEZA</td>\n",
       "      <td>MATUTINO</td>\n",
       "      <td>28</td>\n",
       "      <td>1.0</td>\n",
       "      <td>2025-07-01</td>\n",
       "      <td>1TRAB</td>\n",
       "      <td>1</td>\n",
       "      <td>CL03501 COLEGIO MONTEVERDE</td>\n",
       "      <td>CL03501</td>\n",
       "    </tr>\n",
       "    <tr>\n",
       "      <th>508</th>\n",
       "      <td>125.0</td>\n",
       "      <td>22656</td>\n",
       "      <td>COLEGIO MONTEVERDE</td>\n",
       "      <td>PAVON TARANGO MAITE IRENE</td>\n",
       "      <td>OPERADOR DE LIMPIEZA</td>\n",
       "      <td>MATUTINO</td>\n",
       "      <td>28</td>\n",
       "      <td>1.0</td>\n",
       "      <td>2025-07-01</td>\n",
       "      <td>1TRAB</td>\n",
       "      <td>1</td>\n",
       "      <td>CL03501 COLEGIO MONTEVERDE</td>\n",
       "      <td>CL03501</td>\n",
       "    </tr>\n",
       "  </tbody>\n",
       "</table>\n",
       "</div>"
      ],
      "text/plain": [
       "        id  candidate_id               sitio            nombre_completo  \\\n",
       "507  125.0         22656  COLEGIO MONTEVERDE  PAVON TARANGO MAITE IRENE   \n",
       "508  125.0         22656  COLEGIO MONTEVERDE  PAVON TARANGO MAITE IRENE   \n",
       "\n",
       "                   empleo     turno  no_semana  incidencia       fecha  \\\n",
       "507  OPERADOR DE LIMPIEZA  MATUTINO         28         1.0  2025-07-01   \n",
       "508  OPERADOR DE LIMPIEZA  MATUTINO         28         1.0  2025-07-01   \n",
       "\n",
       "    nomenclatura  asistencia                   sitio sap      SAP  \n",
       "507        1TRAB           1  CL03501 COLEGIO MONTEVERDE  CL03501  \n",
       "508        1TRAB           1  CL03501 COLEGIO MONTEVERDE  CL03501  "
      ]
     },
     "execution_count": 10,
     "metadata": {},
     "output_type": "execute_result"
    }
   ],
   "source": [
    "asistencia[asistencia.duplicated(keep=False)]"
   ]
  },
  {
   "cell_type": "code",
   "execution_count": 11,
   "id": "c394a8c9",
   "metadata": {},
   "outputs": [],
   "source": [
    "asistencia = asistencia.drop_duplicates()"
   ]
  },
  {
   "cell_type": "code",
   "execution_count": 12,
   "id": "3a57ccad",
   "metadata": {},
   "outputs": [],
   "source": [
    "asistencia.to_excel(r\"C:\\Users\\centro.control\\Desktop\\Monitor CMC\\02 ASISTENCIAS\\07 Julio 2025.xlsx\", index=False)"
   ]
  }
 ],
 "metadata": {
  "kernelspec": {
   "display_name": "Python 3",
   "language": "python",
   "name": "python3"
  },
  "language_info": {
   "codemirror_mode": {
    "name": "ipython",
    "version": 3
   },
   "file_extension": ".py",
   "mimetype": "text/x-python",
   "name": "python",
   "nbconvert_exporter": "python",
   "pygments_lexer": "ipython3",
   "version": "3.13.2"
  }
 },
 "nbformat": 4,
 "nbformat_minor": 5
}
