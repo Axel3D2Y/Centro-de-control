{
 "cells": [
  {
   "cell_type": "code",
   "execution_count": null,
   "id": "73b0e354",
   "metadata": {},
   "outputs": [],
   "source": [
    "import pandas as pd\n",
    "import datetime as dt   "
   ]
  },
  {
   "cell_type": "code",
   "execution_count": 2,
   "id": "90a54aba",
   "metadata": {},
   "outputs": [],
   "source": [
    "field  = pd.read_excel(r\"C:\\Users\\centro.control\\Desktop\\Monitor CMC\\01 CEDULAS DE FIELD\\06 DE JUNIO 2025.xlsx\")\n",
    "fiel_nuevos  = pd.read_excel(r\"C:\\Users\\centro.control\\Downloads\\CUMPLIMIENTO DE RUTINAS (37).xlsx\", header=[1])"
   ]
  },
  {
   "cell_type": "code",
   "execution_count": null,
   "id": "cedeba8e",
   "metadata": {},
   "outputs": [],
   "source": [
    "field = field.dropna(subset=['ID Cedula'])"
   ]
  },
  {
   "cell_type": "code",
   "execution_count": null,
   "id": "0229a466",
   "metadata": {},
   "outputs": [],
   "source": [
    "field = pd.concat([field,fiel_nuevo s])"
   ]
  },
  {
   "cell_type": "code",
   "execution_count": 5,
   "id": "8bdb4290",
   "metadata": {},
   "outputs": [],
   "source": [
    "field['Fecha Entrada'] = field['Fecha Entrada'].dt.date\n",
    "field['Fecha Salida'] = field['Fecha Salida'].dt.date"
   ]
  },
  {
   "cell_type": "code",
   "execution_count": 6,
   "id": "bcfe3e6a",
   "metadata": {},
   "outputs": [],
   "source": [
    "field = field.drop_duplicates(keep='last',ignore_index=True)"
   ]
  },
  {
   "cell_type": "code",
   "execution_count": 7,
   "id": "a35533ec",
   "metadata": {},
   "outputs": [],
   "source": [
    "field= field.dropna(subset=['ID Cedula'])"
   ]
  },
  {
   "cell_type": "code",
   "execution_count": 8,
   "id": "8552e6a4",
   "metadata": {},
   "outputs": [],
   "source": [
    "field.to_excel(r\"C:\\Users\\centro.control\\Desktop\\Monitor CMC\\01 CEDULAS DE FIELD\\06 DE JUNIO 2025.xlsx\", index=False)"
   ]
  }
 ],
 "metadata": {
  "kernelspec": {
   "display_name": "Python 3",
   "language": "python",
   "name": "python3"
  },
  "language_info": {
   "codemirror_mode": {
    "name": "ipython",
    "version": 3
   },
   "file_extension": ".py",
   "mimetype": "text/x-python",
   "name": "python",
   "nbconvert_exporter": "python",
   "pygments_lexer": "ipython3",
   "version": "3.13.2"
  }
 },
 "nbformat": 4,
 "nbformat_minor": 5
}
