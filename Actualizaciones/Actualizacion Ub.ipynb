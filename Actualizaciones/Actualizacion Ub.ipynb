{
 "cells": [
  {
   "cell_type": "code",
   "execution_count": 1,
   "id": "215747ab",
   "metadata": {},
   "outputs": [],
   "source": [
    "import pandas as pd \n",
    "import numpy as np \n",
    "from datetime import datetime, timedelta\n"
   ]
  },
  {
   "cell_type": "code",
   "execution_count": 2,
   "id": "db85be8a",
   "metadata": {},
   "outputs": [],
   "source": [
    "# Cargar el archivo de Excel\n",
    "ub = pd.read_excel(r\"C:\\Users\\centro.control\\Downloads\\activos-universida-bennetts28-10-2025_9_36am.xlsx\",  converters={\"usuario\": lambda x: str(x)})\n",
    "sitios_sap = pd.read_excel(r\"C:\\Users\\centro.control\\Desktop\\Monitor CMC\\Sitios SAP.xlsx\")\n",
    "ub_mes  = pd.read_excel(r\"C:\\Users\\centro.control\\Desktop\\Monitor CMC\\08 UNIVERSIDAD BENNETTS\\10 Octubre 2025.xlsx\")"
   ]
  },
  {
   "cell_type": "code",
   "execution_count": 3,
   "id": "070a1cc3",
   "metadata": {},
   "outputs": [
    {
     "data": {
      "text/plain": [
       "(18834, 20)"
      ]
     },
     "execution_count": 3,
     "metadata": {},
     "output_type": "execute_result"
    }
   ],
   "source": [
    "ub_mes.shape"
   ]
  },
  {
   "cell_type": "code",
   "execution_count": 4,
   "id": "ed360819",
   "metadata": {},
   "outputs": [
    {
     "data": {
      "text/plain": [
       "'27/10/2025'"
      ]
     },
     "execution_count": 4,
     "metadata": {},
     "output_type": "execute_result"
    }
   ],
   "source": [
    "ayer = (datetime.today()- timedelta(days=1)).strftime('%d/%m/%Y')  \n",
    "ayer"
   ]
  },
  {
   "cell_type": "code",
   "execution_count": 5,
   "id": "cebd2b9a",
   "metadata": {},
   "outputs": [],
   "source": [
    "ub['fecha llegada al sitio'] = pd.to_datetime(ub['fecha llegada al sitio'], errors='coerce')"
   ]
  },
  {
   "cell_type": "code",
   "execution_count": 6,
   "id": "94c0b668",
   "metadata": {},
   "outputs": [],
   "source": [
    "ub['Fecha del reporte'] = ayer"
   ]
  },
  {
   "cell_type": "code",
   "execution_count": 7,
   "id": "972dd5e5",
   "metadata": {},
   "outputs": [],
   "source": [
    "ub['Más de 15 días'] = np.where(ub['fecha llegada al sitio']< (datetime.today() - timedelta(days=15)), 1, 0)\n",
    "ub['Más de 30 días'] = np.where(ub['fecha llegada al sitio']< (datetime.today() - timedelta(days=30)), 1, 0)"
   ]
  },
  {
   "cell_type": "code",
   "execution_count": 8,
   "id": "295790dc",
   "metadata": {},
   "outputs": [],
   "source": [
    "ub = pd.merge(ub, sitios_sap[['SITIO','NOMBRE COMERCIAL', 'id','EJECUTIVO OPS 2025']], left_on='sitio', right_on='NOMBRE COMERCIAL', how='left').drop(columns=['NOMBRE COMERCIAL','sitio']).rename(columns={'SITIO': 'sitio', 'Unnamed: 14': 'Certificado','fecha c. supervisor/operador':'fecha c. supervisor/operados'})"
   ]
  },
  {
   "cell_type": "code",
   "execution_count": 9,
   "id": "96a92b3a",
   "metadata": {},
   "outputs": [],
   "source": [
    "ub.rename(columns={'EJECUTIVO OPS 2025': 'ejecutivo'}, inplace=True)"
   ]
  },
  {
   "cell_type": "code",
   "execution_count": 10,
   "id": "ee1d8437",
   "metadata": {},
   "outputs": [],
   "source": [
    "ub=ub[[\n",
    "    'id','Fecha del reporte','Folio de alta','nombre_completo', 'sitio', 'turno', 'empleo',\n",
    "    'usuario','contraseña','fecha llegada al sitio','c supervisor/operador','fecha c. supervisor/operados',\n",
    "    'c. seguridad y higiene', 'fecha c. seguridad y higiene', 'c. key quimica', 'fecha c. key quimica', 'Certificado',\n",
    "    'Más de 15 días', 'Más de 30 días','ejecutivo'\n",
    "]]\n",
    "\n",
    "\n"
   ]
  },
  {
   "cell_type": "code",
   "execution_count": 11,
   "id": "105e12c9",
   "metadata": {},
   "outputs": [],
   "source": [
    "ub_mes = pd.concat([ub, ub_mes], ignore_index=True).drop_duplicates(keep='last')"
   ]
  },
  {
   "cell_type": "code",
   "execution_count": 12,
   "id": "b5ea50a9",
   "metadata": {},
   "outputs": [],
   "source": [
    "ub_mes.to_excel(r\"C:\\Users\\centro.control\\Desktop\\Monitor CMC\\08 UNIVERSIDAD BENNETTS\\10 Octubre 2025.xlsx\", index=False, sheet_name='Hoja1')"
   ]
  }
 ],
 "metadata": {
  "kernelspec": {
   "display_name": "Python 3",
   "language": "python",
   "name": "python3"
  },
  "language_info": {
   "codemirror_mode": {
    "name": "ipython",
    "version": 3
   },
   "file_extension": ".py",
   "mimetype": "text/x-python",
   "name": "python",
   "nbconvert_exporter": "python",
   "pygments_lexer": "ipython3",
   "version": "3.13.2"
  }
 },
 "nbformat": 4,
 "nbformat_minor": 5
}
