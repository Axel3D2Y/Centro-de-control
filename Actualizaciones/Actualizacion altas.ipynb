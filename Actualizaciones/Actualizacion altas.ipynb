{
 "cells": [
  {
   "cell_type": "code",
   "execution_count": 222,
   "id": "8bc6a571",
   "metadata": {},
   "outputs": [],
   "source": [
    "import pandas as pd\n",
    "import numpy as np"
   ]
  },
  {
   "cell_type": "code",
   "execution_count": 223,
   "id": "ca2ec310",
   "metadata": {},
   "outputs": [],
   "source": [
    "altas = pd.read_excel(r\"C:\\Users\\centro.control\\Desktop\\Monitor CMC\\Actualizacion de informacion\\Actualizacion Altas.xlsx\")\n",
    "altas_people= pd.read_excel(r\"C:\\Users\\centro.control\\Downloads\\altas-people-center1753205387.xlsx\")\n",
    "id_sitios = pd.read_excel(r\"C:\\Users\\centro.control\\Desktop\\Monitor CMC\\Sitios SAP.xlsx\")\n",
    "al, _ = altas.shape"
   ]
  },
  {
   "cell_type": "code",
   "execution_count": 224,
   "id": "f1618fc2",
   "metadata": {},
   "outputs": [],
   "source": [
    "id_sitios = id_sitios[['SAP','Nombre Comercial','id','SITIO']] "
   ]
  },
  {
   "cell_type": "code",
   "execution_count": 225,
   "id": "befbd0e7",
   "metadata": {},
   "outputs": [],
   "source": [
    "personas = altas_people[~altas_people['Nombre completo'].isin(altas['nombre_completo'])]"
   ]
  },
  {
   "cell_type": "code",
   "execution_count": 226,
   "id": "859451e5",
   "metadata": {},
   "outputs": [
    {
     "data": {
      "text/plain": [
       "234"
      ]
     },
     "execution_count": 226,
     "metadata": {},
     "output_type": "execute_result"
    }
   ],
   "source": [
    "per,_=personas.shape\n",
    "per"
   ]
  },
  {
   "cell_type": "code",
   "execution_count": 227,
   "id": "7a1aa308",
   "metadata": {},
   "outputs": [],
   "source": [
    "personas= personas[['Sitio',\n",
    "                'Nombre completo',\n",
    "                'Turno',\n",
    "                'fecha de llegada al sitio'\n",
    "                ]]"
   ]
  },
  {
   "cell_type": "code",
   "execution_count": 228,
   "id": "a0c663eb",
   "metadata": {},
   "outputs": [],
   "source": [
    "personas[['candidate_id', 'empleo','no_semana', 'incidencia', 'asistencia', 'justificado']] = np.nan\n",
    "personas['Nomenclatura'] = 'A'\n",
    "personas['Tipo'] = 'Natural'"
   ]
  },
  {
   "cell_type": "code",
   "execution_count": 229,
   "id": "87842d8b",
   "metadata": {},
   "outputs": [],
   "source": [
    "id_sitios = id_sitios.rename(\n",
    "    columns= {'SITIO': 'Sitio'}\n",
    ")"
   ]
  },
  {
   "cell_type": "code",
   "execution_count": 230,
   "id": "ea592674",
   "metadata": {},
   "outputs": [],
   "source": [
    "personas = pd.merge(personas, id_sitios, on='Sitio', how='left')\n"
   ]
  },
  {
   "cell_type": "code",
   "execution_count": 231,
   "id": "ab0ce994",
   "metadata": {},
   "outputs": [],
   "source": [
    "personas= personas.rename(\n",
    "    columns={'Nombre Comercial': 'sitio',\n",
    "            'Nombre completo': 'nombre_completo',\n",
    "            'Turno': 'turno',\n",
    "            'fecha de llegada al sitio': 'fecha',\n",
    "            'Nomenclatura': 'nomenclatura',\n",
    "            'Sitio': 'sitio sap'\n",
    "    }\n",
    ")"
   ]
  },
  {
   "cell_type": "code",
   "execution_count": 232,
   "id": "7cd907e9",
   "metadata": {},
   "outputs": [],
   "source": [
    "personas = personas[['id', 'candidate_id', 'sitio', 'nombre_completo', 'empleo', 'turno',\n",
    "    'no_semana', 'incidencia', 'fecha', 'nomenclatura', 'asistencia',\n",
    "    'sitio sap', 'SAP', 'Tipo', 'justificado']]"
   ]
  },
  {
   "cell_type": "code",
   "execution_count": 233,
   "id": "76098ba4",
   "metadata": {},
   "outputs": [
    {
     "data": {
      "text/plain": [
       "234"
      ]
     },
     "execution_count": 233,
     "metadata": {},
     "output_type": "execute_result"
    }
   ],
   "source": [
    "per"
   ]
  },
  {
   "cell_type": "code",
   "execution_count": 234,
   "id": "31aababf",
   "metadata": {},
   "outputs": [],
   "source": [
    "altas = pd.concat([altas,personas])"
   ]
  },
  {
   "cell_type": "code",
   "execution_count": 235,
   "id": "aa4bbae7",
   "metadata": {},
   "outputs": [],
   "source": [
    "altas.to_excel(r\"C:\\Users\\centro.control\\Desktop\\Monitor CMC\\Actualizacion de informacion\\Actualizacion Altas.xlsx\", index=False)\n"
   ]
  },
  {
   "cell_type": "code",
   "execution_count": 236,
   "id": "a0e44038",
   "metadata": {},
   "outputs": [
    {
     "data": {
      "text/plain": [
       "(5672, 15)"
      ]
     },
     "execution_count": 236,
     "metadata": {},
     "output_type": "execute_result"
    }
   ],
   "source": [
    "altas.shape"
   ]
  }
 ],
 "metadata": {
  "kernelspec": {
   "display_name": "Python 3",
   "language": "python",
   "name": "python3"
  },
  "language_info": {
   "codemirror_mode": {
    "name": "ipython",
    "version": 3
   },
   "file_extension": ".py",
   "mimetype": "text/x-python",
   "name": "python",
   "nbconvert_exporter": "python",
   "pygments_lexer": "ipython3",
   "version": "3.13.2"
  }
 },
 "nbformat": 4,
 "nbformat_minor": 5
}
