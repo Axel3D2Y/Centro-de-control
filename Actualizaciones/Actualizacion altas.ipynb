{
 "cells": [
  {
   "cell_type": "code",
   "execution_count": 1,
   "id": "8bc6a571",
   "metadata": {},
   "outputs": [],
   "source": [
    "import pandas as pd\n",
    "import numpy as np"
   ]
  },
  {
   "cell_type": "code",
   "execution_count": 2,
   "id": "ca2ec310",
   "metadata": {},
   "outputs": [],
   "source": [
    "altas = pd.read_excel(r\"C:\\Users\\centro.control\\Desktop\\Monitor CMC\\02 ASISTENCIAS\\Altas.xlsx\")\n",
    "altas_people= pd.read_excel(r\"C:\\Users\\centro.control\\Downloads\\altas-people-center1757086364.xlsx\")\n",
    "id_sitios = pd.read_excel(r\"C:\\Users\\centro.control\\Desktop\\Monitor CMC\\Sitios SAP.xlsx\")\n",
    "al, _ = altas.shape"
   ]
  },
  {
   "cell_type": "code",
   "execution_count": 3,
   "id": "2ba95da0",
   "metadata": {},
   "outputs": [
    {
     "data": {
      "text/plain": [
       "(6178, 16)"
      ]
     },
     "execution_count": 3,
     "metadata": {},
     "output_type": "execute_result"
    }
   ],
   "source": [
    "altas.shape"
   ]
  },
  {
   "cell_type": "code",
   "execution_count": 4,
   "id": "f1618fc2",
   "metadata": {},
   "outputs": [],
   "source": [
    "id_sitios = id_sitios[['SAP','NOMBRE COMERCIAL','id','SITIO','tipo', 'EJECUTIVO OPS 2025']] "
   ]
  },
  {
   "cell_type": "code",
   "execution_count": 5,
   "id": "befbd0e7",
   "metadata": {},
   "outputs": [],
   "source": [
    "personas = altas_people[~altas_people['Nombre completo'].isin(altas['nombre_completo'])]"
   ]
  },
  {
   "cell_type": "code",
   "execution_count": 6,
   "id": "859451e5",
   "metadata": {},
   "outputs": [
    {
     "data": {
      "text/plain": [
       "66"
      ]
     },
     "execution_count": 6,
     "metadata": {},
     "output_type": "execute_result"
    }
   ],
   "source": [
    "per,_=personas.shape\n",
    "per"
   ]
  },
  {
   "cell_type": "code",
   "execution_count": 7,
   "id": "7a1aa308",
   "metadata": {},
   "outputs": [],
   "source": [
    "personas= personas[['Sitio',\n",
    "                'Nombre completo',\n",
    "                'Turno',\n",
    "                'fecha de llegada al sitio'\n",
    "                ]]"
   ]
  },
  {
   "cell_type": "code",
   "execution_count": 8,
   "id": "a0c663eb",
   "metadata": {},
   "outputs": [],
   "source": [
    "personas[['candidate_id', 'empleo','no_semana', 'incidencia', 'asistencia']] = np.nan\n",
    "personas['Nomenclatura'] = 'A'\n",
    "personas[['validacion', 'asistencia']] = 1"
   ]
  },
  {
   "cell_type": "code",
   "execution_count": 9,
   "id": "ea592674",
   "metadata": {},
   "outputs": [],
   "source": [
    "personas = pd.merge(personas, id_sitios, left_on='Sitio', right_on='NOMBRE COMERCIAL', how='left')\n"
   ]
  },
  {
   "cell_type": "code",
   "execution_count": 10,
   "id": "ab0ce994",
   "metadata": {},
   "outputs": [],
   "source": [
    "personas= personas.rename(\n",
    "    columns={'SITIO': 'sitio',\n",
    "            'Nombre completo': 'nombre_completo',\n",
    "            'Turno': 'turno',\n",
    "            'fecha de llegada al sitio': 'fecha',\n",
    "            'Nomenclatura': 'nomenclatura',\n",
    "            'Sitio': 'sitio sap',\n",
    "            'EJECUTIVO OPS 2025': 'ejecutivo'\n",
    "    }\n",
    ")"
   ]
  },
  {
   "cell_type": "code",
   "execution_count": 11,
   "id": "7cd907e9",
   "metadata": {},
   "outputs": [],
   "source": [
    "personas = personas[['id', 'candidate_id', 'sitio', 'nombre_completo', 'empleo', 'turno',\n",
    "    'no_semana', 'incidencia', 'fecha', 'nomenclatura','sitio sap','SAP','tipo', 'validacion', 'asistencia', 'ejecutivo']]"
   ]
  },
  {
   "cell_type": "code",
   "execution_count": 12,
   "id": "31aababf",
   "metadata": {},
   "outputs": [],
   "source": [
    "altas = pd.concat([altas,personas])"
   ]
  },
  {
   "cell_type": "code",
   "execution_count": 13,
   "id": "aa4bbae7",
   "metadata": {},
   "outputs": [],
   "source": [
    "altas.to_excel(r\"C:\\Users\\centro.control\\Desktop\\Monitor CMC\\02 ASISTENCIAS\\Altas.xlsx\", index=False, sheet_name='Hoja1')"
   ]
  }
 ],
 "metadata": {
  "kernelspec": {
   "display_name": "Python 3",
   "language": "python",
   "name": "python3"
  },
  "language_info": {
   "codemirror_mode": {
    "name": "ipython",
    "version": 3
   },
   "file_extension": ".py",
   "mimetype": "text/x-python",
   "name": "python",
   "nbconvert_exporter": "python",
   "pygments_lexer": "ipython3",
   "version": "3.13.2"
  }
 },
 "nbformat": 4,
 "nbformat_minor": 5
}
