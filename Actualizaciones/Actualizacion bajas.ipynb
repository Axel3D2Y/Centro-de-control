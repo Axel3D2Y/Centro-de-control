{
 "cells": [
  {
   "cell_type": "code",
   "execution_count": 14,
   "id": "7d6c1843",
   "metadata": {},
   "outputs": [],
   "source": [
    "import pandas as pd\n",
    "import numpy as np\n"
   ]
  },
  {
   "cell_type": "code",
   "execution_count": 15,
   "id": "0df99834",
   "metadata": {},
   "outputs": [
    {
     "data": {
      "text/plain": [
       "(400, 24)"
      ]
     },
     "execution_count": 15,
     "metadata": {},
     "output_type": "execute_result"
    }
   ],
   "source": [
    "bajas = pd.read_excel(r\"C:\\Users\\centro.control\\Desktop\\Monitor CMC\\02 ASISTENCIAS\\Bajas.xlsx\")\n",
    "bajas_people = pd.read_excel(r\"C:\\Users\\centro.control\\Downloads\\bajas-indicadores-people-center1761665579.xlsx\")\n",
    "id_sitios = pd.read_excel(r\"C:\\Users\\centro.control\\Desktop\\Monitor CMC\\Sitios SAP.xlsx\")\n",
    "bajas_people.shape"
   ]
  },
  {
   "cell_type": "code",
   "execution_count": 16,
   "id": "5d744bbd",
   "metadata": {},
   "outputs": [
    {
     "name": "stdout",
     "output_type": "stream",
     "text": [
      "(6513, 16)\n",
      "(400, 24)\n",
      "38\n"
     ]
    }
   ],
   "source": [
    "print(bajas.shape)\n",
    "print(bajas_people.shape)\n",
    "print(bajas_people.duplicated(subset=['Nombre']).sum())"
   ]
  },
  {
   "cell_type": "code",
   "execution_count": 17,
   "id": "ab0d6760",
   "metadata": {},
   "outputs": [],
   "source": [
    "#Eliminar los nombres duplicados de las bajas de people center \n",
    "bajas_people=bajas_people.drop_duplicates(subset=['Nombre'])"
   ]
  },
  {
   "cell_type": "code",
   "execution_count": 18,
   "id": "d91e58c1",
   "metadata": {},
   "outputs": [],
   "source": [
    "#buscar las personas que no estan en el acumulado de bajas, pero que si estan en las bajas diarias de people center\n",
    "personas_bajas = bajas_people[~bajas_people['Nombre'].isin(bajas['nombre_completo'])].copy()"
   ]
  },
  {
   "cell_type": "code",
   "execution_count": 19,
   "id": "dea158d2",
   "metadata": {},
   "outputs": [],
   "source": [
    "personas_bajas= personas_bajas[['Sitio',\n",
    "                'Nombre',\n",
    "                'Turno',\n",
    "                'ULTIMO DIA TRABAJADO'\n",
    "                ]]\n",
    "personas_bajas[['candidate_id', 'empleo', 'no_semana', 'incidencia']] = np.nan\n",
    "personas_bajas['Nomenclatura'] = 'B'\n",
    "personas_bajas['validacion'] = 1\n",
    "personas_bajas['asistencia'] = 1"
   ]
  },
  {
   "cell_type": "code",
   "execution_count": 20,
   "id": "a0b9d226",
   "metadata": {},
   "outputs": [],
   "source": [
    "personas_bajas = pd.merge(personas_bajas, id_sitios[['SITIO','id','NOMBRE COMERCIAL','tipo','SAP', 'EJECUTIVO OPS 2025']], left_on='Sitio', right_on='NOMBRE COMERCIAL', how='left')\n"
   ]
  },
  {
   "cell_type": "code",
   "execution_count": 21,
   "id": "d3a2eba0",
   "metadata": {},
   "outputs": [],
   "source": [
    "personas_bajas= personas_bajas.rename(\n",
    "    columns={'SITIO': 'sitio',\n",
    "            'Nombre': 'nombre_completo',\n",
    "            'Turno': 'turno',\n",
    "            'ULTIMO DIA TRABAJADO': 'fecha',\n",
    "            'Nomenclatura': 'nomenclatura',\n",
    "            'NOMBRE COMERCIAL': 'sitio sap',\n",
    "            'EJECUTIVO OPS 2025': 'ejecutivo'\n",
    "            }\n",
    ")"
   ]
  },
  {
   "cell_type": "code",
   "execution_count": 22,
   "id": "260befa4",
   "metadata": {},
   "outputs": [
    {
     "data": {
      "text/plain": [
       "Index(['Sitio', 'nombre_completo', 'turno', 'fecha', 'candidate_id', 'empleo',\n",
       "       'no_semana', 'incidencia', 'nomenclatura', 'validacion', 'asistencia',\n",
       "       'sitio', 'id', 'sitio sap', 'tipo', 'SAP', 'ejecutivo'],\n",
       "      dtype='object')"
      ]
     },
     "execution_count": 22,
     "metadata": {},
     "output_type": "execute_result"
    }
   ],
   "source": [
    "personas_bajas.columns"
   ]
  },
  {
   "cell_type": "code",
   "execution_count": 23,
   "id": "88d928df",
   "metadata": {},
   "outputs": [],
   "source": [
    "personas_bajas= personas_bajas[['id', 'candidate_id', 'sitio','nombre_completo',\n",
    "            'empleo', 'turno','no_semana', 'incidencia', 'fecha',\n",
    "            'nomenclatura', 'sitio sap', 'SAP','tipo', 'validacion', 'asistencia', 'ejecutivo']]"
   ]
  },
  {
   "cell_type": "code",
   "execution_count": 24,
   "id": "00a1fbd2",
   "metadata": {},
   "outputs": [],
   "source": [
    "bajas = pd.concat([bajas, personas_bajas], ignore_index=True)"
   ]
  },
  {
   "cell_type": "code",
   "execution_count": 26,
   "id": "ebaa8abc",
   "metadata": {},
   "outputs": [],
   "source": [
    "bajas.to_excel(r\"C:\\Users\\centro.control\\Desktop\\Monitor CMC\\02 ASISTENCIAS\\Bajas.xlsx\", index=False, sheet_name=\"Hoja1\")"
   ]
  }
 ],
 "metadata": {
  "kernelspec": {
   "display_name": "Python 3",
   "language": "python",
   "name": "python3"
  },
  "language_info": {
   "codemirror_mode": {
    "name": "ipython",
    "version": 3
   },
   "file_extension": ".py",
   "mimetype": "text/x-python",
   "name": "python",
   "nbconvert_exporter": "python",
   "pygments_lexer": "ipython3",
   "version": "3.13.2"
  }
 },
 "nbformat": 4,
 "nbformat_minor": 5
}
