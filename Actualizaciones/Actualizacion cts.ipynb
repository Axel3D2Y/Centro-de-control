{
 "cells": [
  {
   "cell_type": "code",
   "execution_count": 1,
   "id": "335f4568",
   "metadata": {},
   "outputs": [],
   "source": [
    "import pandas as pd"
   ]
  },
  {
   "cell_type": "code",
   "execution_count": 2,
   "id": "5d6a062d",
   "metadata": {},
   "outputs": [
    {
     "name": "stderr",
     "output_type": "stream",
     "text": [
      "c:\\Users\\centro.control\\AppData\\Local\\Programs\\Python\\Python313\\Lib\\site-packages\\openpyxl\\worksheet\\_reader.py:223: UserWarning: Cell Z349 is marked as a date but the serial value 6948701.0 is outside the limits for dates. The cell will be treated as an error.\n",
      "  warn(msg)\n"
     ]
    }
   ],
   "source": [
    "cts = pd.read_excel(r\"C:\\Users\\centro.control\\Downloads\\Tickets de Recursos Humanos (CTS) (respuestas) - 2025-09-30T091709.842.xlsx\")\n",
    "id_sitios = pd.read_excel(r\"C:\\Users\\centro.control\\Desktop\\Monitor CMC\\Sitios SAP.xlsx\")\n"
   ]
  },
  {
   "cell_type": "code",
   "execution_count": null,
   "id": "3969e468",
   "metadata": {},
   "outputs": [],
   "source": []
  },
  {
   "cell_type": "code",
   "execution_count": 3,
   "id": "3716e37f",
   "metadata": {},
   "outputs": [],
   "source": [
    "cts = pd.merge(cts, id_sitios[['SITIO','id']], left_on='Sitio', right_on='SITIO',how=\"left\")"
   ]
  },
  {
   "cell_type": "code",
   "execution_count": 4,
   "id": "36cb07d9",
   "metadata": {},
   "outputs": [],
   "source": [
    "cts.drop(columns='SITIO', inplace= True)\n",
    "cols = ['id'] + [col for col in cts.columns if col !=\"id\"]\n",
    "\n",
    "cts= cts[cols]"
   ]
  },
  {
   "cell_type": "code",
   "execution_count": 5,
   "id": "2e956788",
   "metadata": {},
   "outputs": [],
   "source": [
    "cts = cts.rename(columns={\n",
    "    'Puesto.1':'Puesto',\n",
    "    'Sexo requerido.1':'Sexo requerido' ,\n",
    "    'Horario de trabajo.1':'Horario de trabajo' ,\n",
    "    'Rango de edad.1' : 'Rango de edad'\n",
    "})"
   ]
  },
  {
   "cell_type": "code",
   "execution_count": 6,
   "id": "967fcb50",
   "metadata": {},
   "outputs": [],
   "source": [
    "cts.to_excel(r\"C:\\Users\\centro.control\\Desktop\\Monitor CMC\\04 TICKETS RH\\Tickets de Recursos Humanos (CTS) (respuestas).xlsx\", sheet_name= 'Tickets CTS RH', index=False)"
   ]
  }
 ],
 "metadata": {
  "kernelspec": {
   "display_name": "Python 3",
   "language": "python",
   "name": "python3"
  },
  "language_info": {
   "codemirror_mode": {
    "name": "ipython",
    "version": 3
   },
   "file_extension": ".py",
   "mimetype": "text/x-python",
   "name": "python",
   "nbconvert_exporter": "python",
   "pygments_lexer": "ipython3",
   "version": "3.13.2"
  }
 },
 "nbformat": 4,
 "nbformat_minor": 5
}
