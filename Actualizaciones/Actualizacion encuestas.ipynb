{
 "cells": [
  {
   "cell_type": "code",
   "execution_count": 203,
   "id": "3e79d0be",
   "metadata": {},
   "outputs": [],
   "source": [
    "import pandas as pd \n",
    "import numpy as np "
   ]
  },
  {
   "cell_type": "code",
   "execution_count": 204,
   "id": "f935b9c6",
   "metadata": {},
   "outputs": [],
   "source": [
    "encuestas = pd.read_excel(r\"C:\\Users\\centro.control\\Downloads\\Encuesta de Satisfacción del Cliente (respuestas) (1).xlsx\")"
   ]
  },
  {
   "cell_type": "code",
   "execution_count": 206,
   "id": "104b6084",
   "metadata": {},
   "outputs": [],
   "source": [
    "encuestas = encuestas.fillna('N/A')\n",
    "encuestas['Marca temporal'] = pd.to_datetime(encuestas['Marca temporal'], format='%d/%m/%Y').dt.date"
   ]
  },
  {
   "cell_type": "code",
   "execution_count": 207,
   "id": "e7fd0d96",
   "metadata": {},
   "outputs": [],
   "source": [
    "pruebas = encuestas.stack().reset_index()"
   ]
  },
  {
   "cell_type": "code",
   "execution_count": 208,
   "id": "21a877cb",
   "metadata": {},
   "outputs": [
    {
     "data": {
      "text/html": [
       "<div>\n",
       "<style scoped>\n",
       "    .dataframe tbody tr th:only-of-type {\n",
       "        vertical-align: middle;\n",
       "    }\n",
       "\n",
       "    .dataframe tbody tr th {\n",
       "        vertical-align: top;\n",
       "    }\n",
       "\n",
       "    .dataframe thead th {\n",
       "        text-align: right;\n",
       "    }\n",
       "</style>\n",
       "<table border=\"1\" class=\"dataframe\">\n",
       "  <thead>\n",
       "    <tr style=\"text-align: right;\">\n",
       "      <th></th>\n",
       "      <th>level_0</th>\n",
       "      <th>level_1</th>\n",
       "      <th>0</th>\n",
       "    </tr>\n",
       "  </thead>\n",
       "  <tbody>\n",
       "    <tr>\n",
       "      <th>0</th>\n",
       "      <td>0</td>\n",
       "      <td>Marca temporal</td>\n",
       "      <td>2025-05-16</td>\n",
       "    </tr>\n",
       "    <tr>\n",
       "      <th>1</th>\n",
       "      <td>0</td>\n",
       "      <td>Ingrese su nombre completo:</td>\n",
       "      <td>Pruebas centro de control</td>\n",
       "    </tr>\n",
       "    <tr>\n",
       "      <th>2</th>\n",
       "      <td>0</td>\n",
       "      <td>Indique nombre del sitio al que pertenece:</td>\n",
       "      <td>ASSA ABLOY TULTITLAN</td>\n",
       "    </tr>\n",
       "    <tr>\n",
       "      <th>3</th>\n",
       "      <td>0</td>\n",
       "      <td>¿Quién es el Ejecutivo que está al pendiente d...</td>\n",
       "      <td>Eric Saavedra</td>\n",
       "    </tr>\n",
       "    <tr>\n",
       "      <th>4</th>\n",
       "      <td>0</td>\n",
       "      <td>1. En los últimos 30 días, ¿Cómo calificaría s...</td>\n",
       "      <td>4</td>\n",
       "    </tr>\n",
       "    <tr>\n",
       "      <th>5</th>\n",
       "      <td>0</td>\n",
       "      <td>1. ¿Podría compartirnos el motivo de su califi...</td>\n",
       "      <td>bien</td>\n",
       "    </tr>\n",
       "    <tr>\n",
       "      <th>6</th>\n",
       "      <td>0</td>\n",
       "      <td>2. En los últimos 30 días,  ¿Cómo evalúa la ca...</td>\n",
       "      <td>4</td>\n",
       "    </tr>\n",
       "    <tr>\n",
       "      <th>7</th>\n",
       "      <td>0</td>\n",
       "      <td>2. ¿Podría compartirnos el motivo de su califi...</td>\n",
       "      <td>bien</td>\n",
       "    </tr>\n",
       "    <tr>\n",
       "      <th>8</th>\n",
       "      <td>0</td>\n",
       "      <td>3. En los últimos 30 días, ¿Considera que el t...</td>\n",
       "      <td>5</td>\n",
       "    </tr>\n",
       "    <tr>\n",
       "      <th>9</th>\n",
       "      <td>0</td>\n",
       "      <td>3. ¿Cuál es el motivo de esta calificación?</td>\n",
       "      <td>cubren rapido</td>\n",
       "    </tr>\n",
       "    <tr>\n",
       "      <th>10</th>\n",
       "      <td>0</td>\n",
       "      <td>4. ¿Recibe materiales de manera mensual (quími...</td>\n",
       "      <td>Si</td>\n",
       "    </tr>\n",
       "    <tr>\n",
       "      <th>11</th>\n",
       "      <td>0</td>\n",
       "      <td>4. ¿Cómo puntuaría esta calificación?</td>\n",
       "      <td>2.0</td>\n",
       "    </tr>\n",
       "    <tr>\n",
       "      <th>12</th>\n",
       "      <td>0</td>\n",
       "      <td>4. ¿Cuál es el motivo de esta calificación?</td>\n",
       "      <td>bien hecho</td>\n",
       "    </tr>\n",
       "    <tr>\n",
       "      <th>13</th>\n",
       "      <td>0</td>\n",
       "      <td>5. ¿Cuenta con maquinaria en su sitio?</td>\n",
       "      <td>No</td>\n",
       "    </tr>\n",
       "    <tr>\n",
       "      <th>14</th>\n",
       "      <td>0</td>\n",
       "      <td>5. ¿Cómo puntuaría esta calificación</td>\n",
       "      <td>N/A</td>\n",
       "    </tr>\n",
       "    <tr>\n",
       "      <th>15</th>\n",
       "      <td>0</td>\n",
       "      <td>5. ¿Cuál es el motivo de esta calificación?</td>\n",
       "      <td>N/A</td>\n",
       "    </tr>\n",
       "  </tbody>\n",
       "</table>\n",
       "</div>"
      ],
      "text/plain": [
       "    level_0                                            level_1  \\\n",
       "0         0                                     Marca temporal   \n",
       "1         0                       Ingrese su nombre completo:    \n",
       "2         0        Indique nombre del sitio al que pertenece:    \n",
       "3         0  ¿Quién es el Ejecutivo que está al pendiente d...   \n",
       "4         0  1. En los últimos 30 días, ¿Cómo calificaría s...   \n",
       "5         0  1. ¿Podría compartirnos el motivo de su califi...   \n",
       "6         0  2. En los últimos 30 días,  ¿Cómo evalúa la ca...   \n",
       "7         0  2. ¿Podría compartirnos el motivo de su califi...   \n",
       "8         0  3. En los últimos 30 días, ¿Considera que el t...   \n",
       "9         0        3. ¿Cuál es el motivo de esta calificación?   \n",
       "10        0  4. ¿Recibe materiales de manera mensual (quími...   \n",
       "11        0              4. ¿Cómo puntuaría esta calificación?   \n",
       "12        0        4. ¿Cuál es el motivo de esta calificación?   \n",
       "13        0             5. ¿Cuenta con maquinaria en su sitio?   \n",
       "14        0              5. ¿Cómo puntuaría esta calificación    \n",
       "15        0        5. ¿Cuál es el motivo de esta calificación?   \n",
       "\n",
       "                            0  \n",
       "0                  2025-05-16  \n",
       "1   Pruebas centro de control  \n",
       "2        ASSA ABLOY TULTITLAN  \n",
       "3               Eric Saavedra  \n",
       "4                           4  \n",
       "5                        bien  \n",
       "6                           4  \n",
       "7                        bien  \n",
       "8                           5  \n",
       "9               cubren rapido  \n",
       "10                         Si  \n",
       "11                        2.0  \n",
       "12                 bien hecho  \n",
       "13                         No  \n",
       "14                        N/A  \n",
       "15                        N/A  "
      ]
     },
     "execution_count": 208,
     "metadata": {},
     "output_type": "execute_result"
    }
   ],
   "source": [
    "pruebas[pruebas['level_0']==0]"
   ]
  },
  {
   "cell_type": "code",
   "execution_count": 209,
   "id": "ab27d5dd",
   "metadata": {},
   "outputs": [
    {
     "data": {
      "text/plain": [
       "[datetime.date(2025, 5, 16),\n",
       " datetime.date(2025, 5, 16),\n",
       " datetime.date(2025, 5, 16),\n",
       " datetime.date(2025, 5, 16),\n",
       " datetime.date(2025, 5, 16)]"
      ]
     },
     "execution_count": 209,
     "metadata": {},
     "output_type": "execute_result"
    }
   ],
   "source": [
    "valor = pruebas.iloc[0,2]\n",
    "fecha = [valor]*5\n",
    "fecha"
   ]
  },
  {
   "cell_type": "code",
   "execution_count": 210,
   "id": "92d4530c",
   "metadata": {},
   "outputs": [
    {
     "data": {
      "text/plain": [
       "['Eric Saavedra',\n",
       " 'Eric Saavedra',\n",
       " 'Eric Saavedra',\n",
       " 'Eric Saavedra',\n",
       " 'Eric Saavedra']"
      ]
     },
     "execution_count": 210,
     "metadata": {},
     "output_type": "execute_result"
    }
   ],
   "source": [
    "valor = pruebas.iloc[3,2]\n",
    "ejecutivo = [valor]*5\n",
    "ejecutivo"
   ]
  },
  {
   "cell_type": "code",
   "execution_count": 211,
   "id": "37b0e057",
   "metadata": {},
   "outputs": [
    {
     "data": {
      "text/plain": [
       "['ASSA ABLOY TULTITLAN',\n",
       " 'ASSA ABLOY TULTITLAN',\n",
       " 'ASSA ABLOY TULTITLAN',\n",
       " 'ASSA ABLOY TULTITLAN',\n",
       " 'ASSA ABLOY TULTITLAN']"
      ]
     },
     "execution_count": 211,
     "metadata": {},
     "output_type": "execute_result"
    }
   ],
   "source": [
    "valor = pruebas.iloc[2,2]\n",
    "sitio = [valor]*5\n",
    "sitio"
   ]
  },
  {
   "cell_type": "code",
   "execution_count": 212,
   "id": "40616599",
   "metadata": {},
   "outputs": [
    {
     "data": {
      "text/plain": [
       "['Pruebas centro de control',\n",
       " 'Pruebas centro de control',\n",
       " 'Pruebas centro de control',\n",
       " 'Pruebas centro de control',\n",
       " 'Pruebas centro de control']"
      ]
     },
     "execution_count": 212,
     "metadata": {},
     "output_type": "execute_result"
    }
   ],
   "source": [
    "valor = pruebas.iloc[1,2]\n",
    "cliente = [valor]*5\n",
    "cliente"
   ]
  },
  {
   "cell_type": "code",
   "execution_count": 213,
   "id": "4b58ee4a",
   "metadata": {},
   "outputs": [],
   "source": [
    "preguntas =[]\n",
    "pregunta_1 = pruebas.iloc[4,1]\n",
    "respuesta_1 = pruebas.iloc[4,2]\n",
    "comentario_1 = pruebas.iloc[5,2]\n",
    "resp_1= [pregunta_1,respuesta_1, comentario_1,5, 'Nivel de Servicio']"
   ]
  },
  {
   "cell_type": "code",
   "execution_count": 214,
   "id": "5430f487",
   "metadata": {},
   "outputs": [],
   "source": [
    "pregunta_2 = pruebas.iloc[6,1]\n",
    "respuesta_2 = pruebas.iloc[6,2]\n",
    "comentario_2 = pruebas.iloc[7,2]\n",
    "resp_2=[pregunta_2,respuesta_2, comentario_2,5, 'Calidad de limpieza']"
   ]
  },
  {
   "cell_type": "code",
   "execution_count": 215,
   "id": "f7a014a2",
   "metadata": {},
   "outputs": [],
   "source": [
    "pregunta_3 = pruebas.iloc[8,1]\n",
    "respuesta_3 = pruebas.iloc[8,2]\n",
    "comentario_3 = pruebas.iloc[9,2]\n",
    "resp_3= [pregunta_3,respuesta_3, comentario_3,5, 'Cobertura vacantes']"
   ]
  },
  {
   "cell_type": "code",
   "execution_count": 216,
   "id": "12009301",
   "metadata": {},
   "outputs": [
    {
     "data": {
      "text/html": [
       "<div>\n",
       "<style scoped>\n",
       "    .dataframe tbody tr th:only-of-type {\n",
       "        vertical-align: middle;\n",
       "    }\n",
       "\n",
       "    .dataframe tbody tr th {\n",
       "        vertical-align: top;\n",
       "    }\n",
       "\n",
       "    .dataframe thead th {\n",
       "        text-align: right;\n",
       "    }\n",
       "</style>\n",
       "<table border=\"1\" class=\"dataframe\">\n",
       "  <thead>\n",
       "    <tr style=\"text-align: right;\">\n",
       "      <th></th>\n",
       "      <th>level_0</th>\n",
       "      <th>level_1</th>\n",
       "      <th>0</th>\n",
       "    </tr>\n",
       "  </thead>\n",
       "  <tbody>\n",
       "    <tr>\n",
       "      <th>0</th>\n",
       "      <td>0</td>\n",
       "      <td>Marca temporal</td>\n",
       "      <td>2025-05-16</td>\n",
       "    </tr>\n",
       "    <tr>\n",
       "      <th>1</th>\n",
       "      <td>0</td>\n",
       "      <td>Ingrese su nombre completo:</td>\n",
       "      <td>Pruebas centro de control</td>\n",
       "    </tr>\n",
       "    <tr>\n",
       "      <th>2</th>\n",
       "      <td>0</td>\n",
       "      <td>Indique nombre del sitio al que pertenece:</td>\n",
       "      <td>ASSA ABLOY TULTITLAN</td>\n",
       "    </tr>\n",
       "    <tr>\n",
       "      <th>3</th>\n",
       "      <td>0</td>\n",
       "      <td>¿Quién es el Ejecutivo que está al pendiente d...</td>\n",
       "      <td>Eric Saavedra</td>\n",
       "    </tr>\n",
       "    <tr>\n",
       "      <th>4</th>\n",
       "      <td>0</td>\n",
       "      <td>1. En los últimos 30 días, ¿Cómo calificaría s...</td>\n",
       "      <td>4</td>\n",
       "    </tr>\n",
       "    <tr>\n",
       "      <th>5</th>\n",
       "      <td>0</td>\n",
       "      <td>1. ¿Podría compartirnos el motivo de su califi...</td>\n",
       "      <td>bien</td>\n",
       "    </tr>\n",
       "    <tr>\n",
       "      <th>6</th>\n",
       "      <td>0</td>\n",
       "      <td>2. En los últimos 30 días,  ¿Cómo evalúa la ca...</td>\n",
       "      <td>4</td>\n",
       "    </tr>\n",
       "    <tr>\n",
       "      <th>7</th>\n",
       "      <td>0</td>\n",
       "      <td>2. ¿Podría compartirnos el motivo de su califi...</td>\n",
       "      <td>bien</td>\n",
       "    </tr>\n",
       "    <tr>\n",
       "      <th>8</th>\n",
       "      <td>0</td>\n",
       "      <td>3. En los últimos 30 días, ¿Considera que el t...</td>\n",
       "      <td>5</td>\n",
       "    </tr>\n",
       "    <tr>\n",
       "      <th>9</th>\n",
       "      <td>0</td>\n",
       "      <td>3. ¿Cuál es el motivo de esta calificación?</td>\n",
       "      <td>cubren rapido</td>\n",
       "    </tr>\n",
       "    <tr>\n",
       "      <th>10</th>\n",
       "      <td>0</td>\n",
       "      <td>4. ¿Recibe materiales de manera mensual (quími...</td>\n",
       "      <td>Si</td>\n",
       "    </tr>\n",
       "    <tr>\n",
       "      <th>11</th>\n",
       "      <td>0</td>\n",
       "      <td>4. ¿Cómo puntuaría esta calificación?</td>\n",
       "      <td>2.0</td>\n",
       "    </tr>\n",
       "    <tr>\n",
       "      <th>12</th>\n",
       "      <td>0</td>\n",
       "      <td>4. ¿Cuál es el motivo de esta calificación?</td>\n",
       "      <td>bien hecho</td>\n",
       "    </tr>\n",
       "    <tr>\n",
       "      <th>13</th>\n",
       "      <td>0</td>\n",
       "      <td>5. ¿Cuenta con maquinaria en su sitio?</td>\n",
       "      <td>No</td>\n",
       "    </tr>\n",
       "    <tr>\n",
       "      <th>14</th>\n",
       "      <td>0</td>\n",
       "      <td>5. ¿Cómo puntuaría esta calificación</td>\n",
       "      <td>N/A</td>\n",
       "    </tr>\n",
       "    <tr>\n",
       "      <th>15</th>\n",
       "      <td>0</td>\n",
       "      <td>5. ¿Cuál es el motivo de esta calificación?</td>\n",
       "      <td>N/A</td>\n",
       "    </tr>\n",
       "  </tbody>\n",
       "</table>\n",
       "</div>"
      ],
      "text/plain": [
       "    level_0                                            level_1  \\\n",
       "0         0                                     Marca temporal   \n",
       "1         0                       Ingrese su nombre completo:    \n",
       "2         0        Indique nombre del sitio al que pertenece:    \n",
       "3         0  ¿Quién es el Ejecutivo que está al pendiente d...   \n",
       "4         0  1. En los últimos 30 días, ¿Cómo calificaría s...   \n",
       "5         0  1. ¿Podría compartirnos el motivo de su califi...   \n",
       "6         0  2. En los últimos 30 días,  ¿Cómo evalúa la ca...   \n",
       "7         0  2. ¿Podría compartirnos el motivo de su califi...   \n",
       "8         0  3. En los últimos 30 días, ¿Considera que el t...   \n",
       "9         0        3. ¿Cuál es el motivo de esta calificación?   \n",
       "10        0  4. ¿Recibe materiales de manera mensual (quími...   \n",
       "11        0              4. ¿Cómo puntuaría esta calificación?   \n",
       "12        0        4. ¿Cuál es el motivo de esta calificación?   \n",
       "13        0             5. ¿Cuenta con maquinaria en su sitio?   \n",
       "14        0              5. ¿Cómo puntuaría esta calificación    \n",
       "15        0        5. ¿Cuál es el motivo de esta calificación?   \n",
       "\n",
       "                            0  \n",
       "0                  2025-05-16  \n",
       "1   Pruebas centro de control  \n",
       "2        ASSA ABLOY TULTITLAN  \n",
       "3               Eric Saavedra  \n",
       "4                           4  \n",
       "5                        bien  \n",
       "6                           4  \n",
       "7                        bien  \n",
       "8                           5  \n",
       "9               cubren rapido  \n",
       "10                         Si  \n",
       "11                        2.0  \n",
       "12                 bien hecho  \n",
       "13                         No  \n",
       "14                        N/A  \n",
       "15                        N/A  "
      ]
     },
     "execution_count": 216,
     "metadata": {},
     "output_type": "execute_result"
    }
   ],
   "source": [
    "pruebas[pruebas['level_0']==0]"
   ]
  },
  {
   "cell_type": "code",
   "execution_count": 217,
   "id": "62a8f3f1",
   "metadata": {},
   "outputs": [
    {
     "data": {
      "text/plain": [
       "['4. ¿Cómo puntuaría esta calificación?',\n",
       " 2.0,\n",
       " 'bien hecho',\n",
       " 'Entrega de insumos']"
      ]
     },
     "execution_count": 217,
     "metadata": {},
     "output_type": "execute_result"
    }
   ],
   "source": [
    "if pruebas.iloc[10,2] == 'Si': \n",
    "    pregunta_4 = pruebas.iloc[11,1]\n",
    "    respuesta_4 = pruebas.iloc[11,2]\n",
    "    comentario_4= pruebas.iloc[12,2]\n",
    "    resp_4=[pregunta_4,respuesta_4, comentario_4,5, 'Entrega de insumos']\n",
    "else:\n",
    "    pregunta_4 = pruebas.iloc[11,1]\n",
    "    resp_4=[pregunta_4,None, None,None]\n",
    "\n",
    "[pregunta_4,respuesta_4, comentario_4, 'Entrega de insumos']\n"
   ]
  },
  {
   "cell_type": "code",
   "execution_count": 218,
   "id": "9809ba1e",
   "metadata": {},
   "outputs": [],
   "source": [
    "if pruebas.iloc[13,2] == 'Si': \n",
    "    pregunta_5 = pruebas.iloc[14,1]\n",
    "    respuesta_5 = pruebas.iloc[14,2]\n",
    "    comentario_5= pruebas.iloc[15,2]\n",
    "    resp_5=[pregunta_5,respuesta_5, comentario_5,5,'Estatus maquinaria']\n",
    "else:\n",
    "    pregunta_5= pruebas.iloc[13,1]\n",
    "    resp_5=[pregunta_5,None, None,None,'Estatus maquinaria']\n",
    "\n"
   ]
  },
  {
   "cell_type": "code",
   "execution_count": 219,
   "id": "3290eec7",
   "metadata": {},
   "outputs": [],
   "source": [
    "pregunta_Estrellas_comentarios = [resp_1, resp_2, resp_3, resp_4, resp_5]"
   ]
  },
  {
   "cell_type": "code",
   "execution_count": null,
   "id": "0b3d5691",
   "metadata": {},
   "outputs": [],
   "source": [
    "df_1 = pd.DataFrame({\n",
    "    'fecha': fecha,\n",
    "    'cliente': cliente,\n",
    "    'ejecutivo': ejecutivo,\n",
    "    'sitio': sitio\n",
    "})\n",
    "df_2 = pd.DataFrame(pregunta_Estrellas_comentarios, columns=['pregunta', 'respuesta', 'comentario','estrellas','categoria'])"
   ]
  },
  {
   "cell_type": "code",
   "execution_count": 229,
   "id": "88b91e01",
   "metadata": {},
   "outputs": [],
   "source": [
    "df = pd.concat([df_1,df_2], axis=1)"
   ]
  },
  {
   "cell_type": "code",
   "execution_count": 230,
   "id": "6972d3b3",
   "metadata": {},
   "outputs": [
    {
     "data": {
      "text/html": [
       "<div>\n",
       "<style scoped>\n",
       "    .dataframe tbody tr th:only-of-type {\n",
       "        vertical-align: middle;\n",
       "    }\n",
       "\n",
       "    .dataframe tbody tr th {\n",
       "        vertical-align: top;\n",
       "    }\n",
       "\n",
       "    .dataframe thead th {\n",
       "        text-align: right;\n",
       "    }\n",
       "</style>\n",
       "<table border=\"1\" class=\"dataframe\">\n",
       "  <thead>\n",
       "    <tr style=\"text-align: right;\">\n",
       "      <th></th>\n",
       "      <th>fecha</th>\n",
       "      <th>cliente</th>\n",
       "      <th>ejecutivo</th>\n",
       "      <th>sitio</th>\n",
       "      <th>pregunta</th>\n",
       "      <th>respuesta</th>\n",
       "      <th>comentario</th>\n",
       "      <th>estrellas</th>\n",
       "      <th>categoria</th>\n",
       "    </tr>\n",
       "  </thead>\n",
       "  <tbody>\n",
       "    <tr>\n",
       "      <th>0</th>\n",
       "      <td>2025-05-16</td>\n",
       "      <td>Pruebas centro de control</td>\n",
       "      <td>Eric Saavedra</td>\n",
       "      <td>ASSA ABLOY TULTITLAN</td>\n",
       "      <td>1. En los últimos 30 días, ¿Cómo calificaría s...</td>\n",
       "      <td>4.0</td>\n",
       "      <td>bien</td>\n",
       "      <td>5.0</td>\n",
       "      <td>Nivel de Servicio</td>\n",
       "    </tr>\n",
       "    <tr>\n",
       "      <th>1</th>\n",
       "      <td>2025-05-16</td>\n",
       "      <td>Pruebas centro de control</td>\n",
       "      <td>Eric Saavedra</td>\n",
       "      <td>ASSA ABLOY TULTITLAN</td>\n",
       "      <td>2. En los últimos 30 días,  ¿Cómo evalúa la ca...</td>\n",
       "      <td>4.0</td>\n",
       "      <td>bien</td>\n",
       "      <td>5.0</td>\n",
       "      <td>Calidad de limpieza</td>\n",
       "    </tr>\n",
       "    <tr>\n",
       "      <th>2</th>\n",
       "      <td>2025-05-16</td>\n",
       "      <td>Pruebas centro de control</td>\n",
       "      <td>Eric Saavedra</td>\n",
       "      <td>ASSA ABLOY TULTITLAN</td>\n",
       "      <td>3. En los últimos 30 días, ¿Considera que el t...</td>\n",
       "      <td>5.0</td>\n",
       "      <td>cubren rapido</td>\n",
       "      <td>5.0</td>\n",
       "      <td>Cobertura vacantes</td>\n",
       "    </tr>\n",
       "    <tr>\n",
       "      <th>3</th>\n",
       "      <td>2025-05-16</td>\n",
       "      <td>Pruebas centro de control</td>\n",
       "      <td>Eric Saavedra</td>\n",
       "      <td>ASSA ABLOY TULTITLAN</td>\n",
       "      <td>4. ¿Cómo puntuaría esta calificación?</td>\n",
       "      <td>2.0</td>\n",
       "      <td>bien hecho</td>\n",
       "      <td>5.0</td>\n",
       "      <td>Entrega de insumos</td>\n",
       "    </tr>\n",
       "    <tr>\n",
       "      <th>4</th>\n",
       "      <td>2025-05-16</td>\n",
       "      <td>Pruebas centro de control</td>\n",
       "      <td>Eric Saavedra</td>\n",
       "      <td>ASSA ABLOY TULTITLAN</td>\n",
       "      <td>5. ¿Cuenta con maquinaria en su sitio?</td>\n",
       "      <td>NaN</td>\n",
       "      <td>None</td>\n",
       "      <td>NaN</td>\n",
       "      <td>Estatus maquinaria</td>\n",
       "    </tr>\n",
       "  </tbody>\n",
       "</table>\n",
       "</div>"
      ],
      "text/plain": [
       "        fecha                    cliente      ejecutivo                 sitio  \\\n",
       "0  2025-05-16  Pruebas centro de control  Eric Saavedra  ASSA ABLOY TULTITLAN   \n",
       "1  2025-05-16  Pruebas centro de control  Eric Saavedra  ASSA ABLOY TULTITLAN   \n",
       "2  2025-05-16  Pruebas centro de control  Eric Saavedra  ASSA ABLOY TULTITLAN   \n",
       "3  2025-05-16  Pruebas centro de control  Eric Saavedra  ASSA ABLOY TULTITLAN   \n",
       "4  2025-05-16  Pruebas centro de control  Eric Saavedra  ASSA ABLOY TULTITLAN   \n",
       "\n",
       "                                            pregunta  respuesta  \\\n",
       "0  1. En los últimos 30 días, ¿Cómo calificaría s...        4.0   \n",
       "1  2. En los últimos 30 días,  ¿Cómo evalúa la ca...        4.0   \n",
       "2  3. En los últimos 30 días, ¿Considera que el t...        5.0   \n",
       "3              4. ¿Cómo puntuaría esta calificación?        2.0   \n",
       "4             5. ¿Cuenta con maquinaria en su sitio?        NaN   \n",
       "\n",
       "      comentario  estrellas            categoria  \n",
       "0           bien        5.0    Nivel de Servicio  \n",
       "1           bien        5.0  Calidad de limpieza  \n",
       "2  cubren rapido        5.0   Cobertura vacantes  \n",
       "3     bien hecho        5.0   Entrega de insumos  \n",
       "4           None        NaN   Estatus maquinaria  "
      ]
     },
     "execution_count": 230,
     "metadata": {},
     "output_type": "execute_result"
    }
   ],
   "source": [
    "df"
   ]
  }
 ],
 "metadata": {
  "kernelspec": {
   "display_name": "Python 3",
   "language": "python",
   "name": "python3"
  },
  "language_info": {
   "codemirror_mode": {
    "name": "ipython",
    "version": 3
   },
   "file_extension": ".py",
   "mimetype": "text/x-python",
   "name": "python",
   "nbconvert_exporter": "python",
   "pygments_lexer": "ipython3",
   "version": "3.13.2"
  }
 },
 "nbformat": 4,
 "nbformat_minor": 5
}
