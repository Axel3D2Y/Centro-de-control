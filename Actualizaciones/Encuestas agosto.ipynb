{
 "cells": [
  {
   "cell_type": "code",
   "execution_count": 5,
   "id": "c56b1898",
   "metadata": {},
   "outputs": [],
   "source": [
    "import pandas as pd"
   ]
  },
  {
   "cell_type": "code",
   "execution_count": 6,
   "id": "e6934ca4",
   "metadata": {},
   "outputs": [],
   "source": [
    "data= pd.read_excel(r\"C:\\Users\\centro.control\\Desktop\\Monitor CMC\\03 MOT\\10 Octubre 2025.xlsx\")"
   ]
  },
  {
   "cell_type": "code",
   "execution_count": 7,
   "id": "ae0ce581",
   "metadata": {},
   "outputs": [],
   "source": [
    "data.drop_duplicates(subset=['Fecha','Sitio', 'Área'], inplace=True, keep='last')"
   ]
  },
  {
   "cell_type": "code",
   "execution_count": 9,
   "id": "de6e953b",
   "metadata": {},
   "outputs": [],
   "source": [
    "data.to_excel(r\"C:\\Users\\centro.control\\Desktop\\Monitor CMC\\03 MOT\\10 Octubre nuevo 2025.xlsx\", index=False)"
   ]
  }
 ],
 "metadata": {
  "kernelspec": {
   "display_name": "Python 3",
   "language": "python",
   "name": "python3"
  },
  "language_info": {
   "codemirror_mode": {
    "name": "ipython",
    "version": 3
   },
   "file_extension": ".py",
   "mimetype": "text/x-python",
   "name": "python",
   "nbconvert_exporter": "python",
   "pygments_lexer": "ipython3",
   "version": "3.13.2"
  }
 },
 "nbformat": 4,
 "nbformat_minor": 5
}
