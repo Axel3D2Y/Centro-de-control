{
 "cells": [
  {
   "cell_type": "code",
   "execution_count": 1,
   "id": "b59d9966",
   "metadata": {},
   "outputs": [],
   "source": [
    "from PyPDF2 import PdfReader, PdfWriter\n",
    "\n",
    "reader = PdfReader(r\"C:\\Users\\centro.control\\Documents\\REPORTES SEMANALES DE SITIOS\\REPORTE SEMANAL AL 01 AL 19 DE JULIO.pdf\")\n",
    "total_pages = len(reader.pages)\n",
    "\n",
    "    \n",
    "for i in range(0, total_pages, 2):\n",
    "    writer = PdfWriter()\n",
    "    for j in range(i, min(i+2, total_pages)):\n",
    "        writer.add_page(reader.pages[j])\n",
    "    with open(f\"bloque_{i//2+1}.pdf\", \"wb\") as f_out:\n",
    "        writer.write(f_out)"
   ]
  }
 ],
 "metadata": {
  "kernelspec": {
   "display_name": "Python 3",
   "language": "python",
   "name": "python3"
  },
  "language_info": {
   "codemirror_mode": {
    "name": "ipython",
    "version": 3
   },
   "file_extension": ".py",
   "mimetype": "text/x-python",
   "name": "python",
   "nbconvert_exporter": "python",
   "pygments_lexer": "ipython3",
   "version": "3.13.2"
  }
 },
 "nbformat": 4,
 "nbformat_minor": 5
}
