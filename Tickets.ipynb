{
 "cells": [
  {
   "cell_type": "code",
   "execution_count": null,
   "id": "17bb10e8",
   "metadata": {},
   "outputs": [],
   "source": [
    "import pandas as pd \n",
    "from datetime import datetime, timedelta, date\n",
    "from datetime import date"
   ]
  },
  {
   "cell_type": "code",
   "execution_count": 21,
   "id": "58723a8f",
   "metadata": {},
   "outputs": [
    {
     "name": "stderr",
     "output_type": "stream",
     "text": [
      "c:\\Users\\centro.control\\AppData\\Local\\Programs\\Python\\Python313\\Lib\\site-packages\\openpyxl\\worksheet\\_reader.py:223: UserWarning: Cell Z349 is marked as a date but the serial value 6948701.0 is outside the limits for dates. The cell will be treated as an error.\n",
      "  warn(msg)\n"
     ]
    }
   ],
   "source": [
    "tickets = pd.read_excel(r\"C:\\Users\\centro.control\\Downloads\\Tickets de Recursos Humanos (CTS) (respuestas) (2).xlsx\")"
   ]
  },
  {
   "cell_type": "code",
   "execution_count": 22,
   "id": "430a2fb7",
   "metadata": {},
   "outputs": [],
   "source": [
    "tickets['Fecha compromiso de cobertura']= pd.to_datetime(tickets['Fecha compromiso de cobertura'], errors='coerce').dt.date\n",
    "tickets['Marca temporal']= pd.to_datetime(tickets['Marca temporal'], errors='coerce').dt.date\n",
    "tickets['Fecha de cierre']= pd.to_datetime(tickets['Fecha de cierre'], errors='coerce').dt.date\n"
   ]
  },
  {
   "cell_type": "code",
   "execution_count": null,
   "id": "31d0c0b7",
   "metadata": {},
   "outputs": [],
   "source": [
    "hoy = (datetime.today()).date()\n",
    "ayer = (datetime.today()-timedelta(days=1)).date()\n",
    "mañana = (datetime.today()+timedelta(days=1)).date()\n",
    "pasado_mañ = (datetime.today()+timedelta(days=2)).date()\n",
    "trasmañana = (datetime.today()+timedelta(days=3)).date()"
   ]
  },
  {
   "cell_type": "code",
   "execution_count": 24,
   "id": "26f29ac8",
   "metadata": {},
   "outputs": [],
   "source": [
    "ticket_abiertos_proceden = tickets[\n",
    "    (tickets['Estatus'] == 'Abierto') &\n",
    "    (tickets['Procede'] == 'Procede') &\n",
    "    (tickets['Marca temporal'] > datetime.strptime('2025-01-01', '%Y-%m-%d').date())\n",
    "]\n",
    "\n",
    "ticket_abiertos = tickets[tickets['Estatus']== 'Abierto']  "
   ]
  },
  {
   "cell_type": "code",
   "execution_count": 25,
   "id": "65585a39",
   "metadata": {},
   "outputs": [],
   "source": [
    "ticket_cerrados = sum(tickets['Fecha de cierre'] == hoy)+ sum(tickets['Fecha de cierre'] == ayer)\n",
    "ticket_nuevos = sum(tickets['Marca temporal'] == hoy)+ sum(tickets['Fecha de cierre'] == ayer)\n",
    "ticket_xvencer = sum(ticket_abiertos['Fecha compromiso de cobertura'] == mañana)+sum(ticket_abiertos['Fecha compromiso de cobertura'] == pasado_mañ)+sum(ticket_abiertos['Fecha compromiso de cobertura'] == trasmañana)\n",
    "tickets_abiertos,_ =ticket_abiertos_proceden.shape"
   ]
  },
  {
   "cell_type": "code",
   "execution_count": 26,
   "id": "9c641bc8",
   "metadata": {},
   "outputs": [
    {
     "name": "stdout",
     "output_type": "stream",
     "text": [
      "4\n",
      "4\n",
      "3\n",
      "31\n"
     ]
    }
   ],
   "source": [
    "print(f'{ticket_cerrados}')\n",
    "print(f'{ticket_nuevos}')\n",
    "print(f'{ticket_xvencer}')\n",
    "print(f'{tickets_abiertos}')"
   ]
  },
  {
   "cell_type": "code",
   "execution_count": 27,
   "id": "92019e83",
   "metadata": {},
   "outputs": [],
   "source": [
    "# resultados = {\n",
    "#     'Tickets cerrados': ticket_cerrados,\n",
    "#     'Tickets nuevos': ticket_nuevos,\n",
    "#     'Tickets por vencer': ticket_xvencer,\n",
    "#     'Tickets abiertos': ticket_abiertos\n",
    "# }"
   ]
  },
  {
   "cell_type": "code",
   "execution_count": null,
   "id": "f17e0605",
   "metadata": {},
   "outputs": [],
   "source": [
    "# Leer tu archivo HTML base\n",
    "with open(\"C:\\\\Users\\\\centro.control\\\\Documents\\\\code (1) - copia.html\", \"r\", encoding=\"utf-8\") as f:\n",
    "    html = f.read()\n",
    "\n",
    "# Reemplazar los marcadores por los valores\n",
    "html = html.replace(\"{{ticket_abiertos}}\", str(tickets_abiertos))\n",
    "html = html.replace(\"{{ticket_nuevos}}\", str(ticket_nuevos))\n",
    "html = html.replace(\"{{ticket_cerrados}}\", str(ticket_cerrados))\n",
    "html = html.replace(\"{{ticket_xvencer}}\", str(ticket_xvencer))\n",
    "\n",
    "\n",
    "# Guardar el HTML con los valores ya insertados\n",
    "with open(\"C:\\\\Users\\\\centro.control\\\\Documents\\\\reporte_tickets.html\", \"w\", encoding=\"utf-8\") as f:\n",
    "    f.write(html)"
   ]
  }
 ],
 "metadata": {
  "kernelspec": {
   "display_name": "Python 3",
   "language": "python",
   "name": "python3"
  },
  "language_info": {
   "codemirror_mode": {
    "name": "ipython",
    "version": 3
   },
   "file_extension": ".py",
   "mimetype": "text/x-python",
   "name": "python",
   "nbconvert_exporter": "python",
   "pygments_lexer": "ipython3",
   "version": "3.13.2"
  }
 },
 "nbformat": 4,
 "nbformat_minor": 5
}
