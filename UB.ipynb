{
 "cells": [
  {
   "cell_type": "markdown",
   "id": "698ee3e1",
   "metadata": {},
   "source": []
  },
  {
   "cell_type": "code",
   "execution_count": 25,
   "id": "4f159f7c",
   "metadata": {},
   "outputs": [],
   "source": [
    "import pandas as pd "
   ]
  },
  {
   "cell_type": "code",
   "execution_count": 26,
   "id": "cfa57726",
   "metadata": {},
   "outputs": [],
   "source": [
    "ub = pd.read_excel(r\"C:\\Users\\centro.control\\Downloads\\activos-universida-bennetts27-05-2025_10_22am.xlsx\")"
   ]
  },
  {
   "cell_type": "code",
   "execution_count": 27,
   "id": "7631dca6",
   "metadata": {},
   "outputs": [],
   "source": [
    "ub_bajos= ub[['sitio','turno', 'Unnamed: 14']]"
   ]
  },
  {
   "cell_type": "code",
   "execution_count": 28,
   "id": "9c594c60",
   "metadata": {},
   "outputs": [],
   "source": [
    "ub_certificados = ub.groupby(['sitio', 'turno']).agg(\n",
    "    total = ('Unnamed: 14', 'count'),\n",
    "    Certificados= ('Unnamed: 14','sum')\n",
    ")"
   ]
  },
  {
   "cell_type": "code",
   "execution_count": 29,
   "id": "1150229f",
   "metadata": {},
   "outputs": [],
   "source": [
    "ub_certificados[\"% de certificados\"] = ((ub_certificados['Certificados']*100/ub_certificados['total'])).round(2)\n",
    "ub_certificados = ub_certificados.reset_index()\n"
   ]
  },
  {
   "cell_type": "code",
   "execution_count": 30,
   "id": "6200957a",
   "metadata": {},
   "outputs": [],
   "source": [
    "ub_certificados=ub_certificados[ub_certificados['sitio'] != 'CAPACITADORES BENNETTS']"
   ]
  },
  {
   "cell_type": "code",
   "execution_count": 31,
   "id": "f19e3f8a",
   "metadata": {},
   "outputs": [],
   "source": [
    "top_5_ub = ub_certificados[['sitio','turno',\"% de certificados\"]].sort_values(by=\"% de certificados\").head(5)"
   ]
  },
  {
   "cell_type": "code",
   "execution_count": 35,
   "id": "e156e6e3",
   "metadata": {},
   "outputs": [],
   "source": [
    "html_ub = \"\\n\".join(\n",
    "    f\"<li>{filas['sitio']} ({filas['turno']}): <strong>{filas['% de certificados']} %</strong></li>\"\n",
    "    for _, filas in top_5_ub.iterrows()\n",
    ")"
   ]
  },
  {
   "cell_type": "code",
   "execution_count": 36,
   "id": "12ac81dd",
   "metadata": {},
   "outputs": [],
   "source": [
    "with open(\"C:\\\\Users\\\\centro.control\\\\Documents\\\\code (1) - copia.html\", \"r\", encoding=\"utf-8\") as f:\n",
    "    html = f.read()\n",
    "html = html.replace(\"{{lista_ub}}\", html_ub)\n",
    "\n",
    "with open(\"C:\\\\Users\\\\centro.control\\\\Documents\\\\reporte_tickets.html\", \"w\", encoding=\"utf-8\") as f:\n",
    "    f.write(html)"
   ]
  }
 ],
 "metadata": {
  "kernelspec": {
   "display_name": "Python 3",
   "language": "python",
   "name": "python3"
  },
  "language_info": {
   "codemirror_mode": {
    "name": "ipython",
    "version": 3
   },
   "file_extension": ".py",
   "mimetype": "text/x-python",
   "name": "python",
   "nbconvert_exporter": "python",
   "pygments_lexer": "ipython3",
   "version": "3.13.2"
  }
 },
 "nbformat": 4,
 "nbformat_minor": 5
}
