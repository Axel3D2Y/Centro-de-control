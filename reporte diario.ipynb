{
 "cells": [
  {
   "cell_type": "code",
   "execution_count": 57,
   "id": "f040e019",
   "metadata": {},
   "outputs": [],
   "source": [
    "import pandas as pd \n",
    "from datetime import datetime, timedelta, date\n",
    "import numpy as np"
   ]
  },
  {
   "cell_type": "code",
   "execution_count": 58,
   "id": "ae6b1547",
   "metadata": {},
   "outputs": [],
   "source": [
    "def porcentaje(asignadas, realizados):\n",
    "    return (sum(realizados)/sum(asignadas))*100"
   ]
  },
  {
   "cell_type": "code",
   "execution_count": 59,
   "id": "16cf074a",
   "metadata": {},
   "outputs": [],
   "source": [
    "tickets = pd.read_excel(r\"C:\\Users\\centro.control\\Downloads\\Tickets de Recursos Humanos (CTS) (respuestas) - 2025-10-15T084808.721.xlsx\")\n",
    "rutinas = pd.read_excel(r\"C:\\Users\\centro.control\\Downloads\\CUMPLIMIENTO DE RUTINAS - 2025-10-15T084850.217.xlsx\", header=1)\n",
    "vacantes = pd.read_excel(r\"C:\\Users\\centro.control\\Desktop\\Monitor CMC\\Actualizacion de informacion\\Vacantes 2025.xlsx\")\n",
    "ub = pd.read_excel(r\"C:\\Users\\centro.control\\Downloads\\activos-universida-bennetts15-10-2025_8_49am.xlsx\")"
   ]
  },
  {
   "cell_type": "markdown",
   "id": "f08783a8",
   "metadata": {},
   "source": [
    "# TICKETS"
   ]
  },
  {
   "cell_type": "code",
   "execution_count": 60,
   "id": "027ddf62",
   "metadata": {},
   "outputs": [],
   "source": [
    "tickets['Fecha compromiso de cobertura']= pd.to_datetime(tickets['Fecha compromiso de cobertura'], errors='coerce').dt.date\n",
    "tickets['Marca temporal']= pd.to_datetime(tickets['Marca temporal'], errors='coerce').dt.date\n",
    "tickets['Fecha de cierre']= pd.to_datetime(tickets['Fecha de cierre'], errors='coerce').dt.date\n",
    "hoy = (datetime.today()).date()\n",
    "ayer = (datetime.today()-timedelta(days=1)).date()\n",
    "antiayer = (datetime.today()-timedelta(days=2)).date()\n",
    "anti_antiayer = (datetime.today()-timedelta(days=3)).date()\n",
    "mañana = (datetime.today()+timedelta(days=1)).date()\n",
    "pasado_mañ = (datetime.today()+timedelta(days=2)).date()\n",
    "trasmañana = (datetime.today()+timedelta(days=3)).date()\n",
    "ticket_abiertos_proceden = tickets[\n",
    "    (tickets['Estatus'] == 'Abierto') &\n",
    "    (tickets['Procede'] == 'Procede') &\n",
    "    (tickets['Marca temporal'] > datetime.strptime('2025-01-01', '%Y-%m-%d').date())\n",
    "]\n",
    "\n",
    "ticket_abiertos = tickets[tickets['Estatus']== 'Abierto']  \n",
    "\n",
    "\n",
    "\n",
    "\n",
    "\n",
    "ticket_cerrados = sum(tickets['Fecha de cierre'] == hoy)+ sum(tickets['Fecha de cierre'] == ayer)  #+ sum(tickets['Marca temporal'] == antiayer)+ sum(tickets['Marca temporal'] == anti_antiayer)\n",
    "ticket_nuevos = sum(tickets['Marca temporal'] == hoy)+ sum(tickets['Marca temporal'] == ayer)  #+ sum(tickets['Marca temporal'] == antiayer) \n",
    "ticket_xvencer = sum(ticket_abiertos['Fecha compromiso de cobertura'] == mañana) + sum(ticket_abiertos['Fecha compromiso de cobertura'] == pasado_mañ) + sum(ticket_abiertos['Fecha compromiso de cobertura'] == trasmañana)\n",
    "tickets_abiertos,_ =ticket_abiertos_proceden.shape\n",
    "\n"
   ]
  },
  {
   "cell_type": "markdown",
   "id": "08601fa5",
   "metadata": {},
   "source": [
    "# CUMPLIMIENTO DE RUTINAS"
   ]
  },
  {
   "cell_type": "code",
   "execution_count": 61,
   "id": "b314a6e2",
   "metadata": {},
   "outputs": [],
   "source": [
    "\n",
    "rutinas = rutinas.dropna(subset=['ID Cedula'])\n",
    "total_rutinas =round(porcentaje(rutinas['Rutinas Asignadas'],rutinas['Rutinas Realizadas']),1)\n"
   ]
  },
  {
   "cell_type": "code",
   "execution_count": 62,
   "id": "bc6dd2cf",
   "metadata": {},
   "outputs": [
    {
     "name": "stdout",
     "output_type": "stream",
     "text": [
      "4\n",
      "7\n",
      "1\n",
      "37\n",
      "99.4\n"
     ]
    }
   ],
   "source": [
    "print(f'{ticket_cerrados}')\n",
    "print(f'{ticket_nuevos}')\n",
    "print(f'{ticket_xvencer}')\n",
    "print(f'{tickets_abiertos}')\n",
    "print(f'{total_rutinas}')"
   ]
  },
  {
   "cell_type": "markdown",
   "id": "f3d515e5",
   "metadata": {},
   "source": [
    "# VACANTES"
   ]
  },
  {
   "cell_type": "code",
   "execution_count": 63,
   "id": "23e96ab6",
   "metadata": {},
   "outputs": [
    {
     "data": {
      "text/html": [
       "<div>\n",
       "<style scoped>\n",
       "    .dataframe tbody tr th:only-of-type {\n",
       "        vertical-align: middle;\n",
       "    }\n",
       "\n",
       "    .dataframe tbody tr th {\n",
       "        vertical-align: top;\n",
       "    }\n",
       "\n",
       "    .dataframe thead th {\n",
       "        text-align: right;\n",
       "    }\n",
       "</style>\n",
       "<table border=\"1\" class=\"dataframe\">\n",
       "  <thead>\n",
       "    <tr style=\"text-align: right;\">\n",
       "      <th></th>\n",
       "      <th>id</th>\n",
       "      <th>Fecha del reporte</th>\n",
       "      <th>Sitio</th>\n",
       "      <th>Plantilla</th>\n",
       "      <th>Activos</th>\n",
       "      <th>Vacante</th>\n",
       "      <th>Turno</th>\n",
       "      <th>Tipo</th>\n",
       "      <th>Ejecutivo</th>\n",
       "    </tr>\n",
       "  </thead>\n",
       "  <tbody>\n",
       "    <tr>\n",
       "      <th>0</th>\n",
       "      <td>241</td>\n",
       "      <td>2025-03-01</td>\n",
       "      <td>LIVERPOOL PERINORTE</td>\n",
       "      <td>14</td>\n",
       "      <td>11</td>\n",
       "      <td>3</td>\n",
       "      <td>Matutino</td>\n",
       "      <td>Natural</td>\n",
       "      <td>Karina Sánchez</td>\n",
       "    </tr>\n",
       "    <tr>\n",
       "      <th>1</th>\n",
       "      <td>358</td>\n",
       "      <td>2025-03-01</td>\n",
       "      <td>AMERICAN EXPRESS POLANCO</td>\n",
       "      <td>14</td>\n",
       "      <td>15</td>\n",
       "      <td>0</td>\n",
       "      <td>Matutino</td>\n",
       "      <td>Natural</td>\n",
       "      <td>Ángel Cervantes</td>\n",
       "    </tr>\n",
       "    <tr>\n",
       "      <th>2</th>\n",
       "      <td>357</td>\n",
       "      <td>2025-03-01</td>\n",
       "      <td>LIVERPOOL JILOTEPEC</td>\n",
       "      <td>13</td>\n",
       "      <td>13</td>\n",
       "      <td>0</td>\n",
       "      <td>Matutino</td>\n",
       "      <td>Natural</td>\n",
       "      <td>Oscar Castillo</td>\n",
       "    </tr>\n",
       "    <tr>\n",
       "      <th>3</th>\n",
       "      <td>183</td>\n",
       "      <td>2025-03-01</td>\n",
       "      <td>LIVERPOOL INTERLOMAS</td>\n",
       "      <td>27</td>\n",
       "      <td>27</td>\n",
       "      <td>0</td>\n",
       "      <td>Matutino</td>\n",
       "      <td>Natural</td>\n",
       "      <td>Abel Vázquez</td>\n",
       "    </tr>\n",
       "    <tr>\n",
       "      <th>4</th>\n",
       "      <td>80</td>\n",
       "      <td>2025-03-01</td>\n",
       "      <td>CUMBRES PRIMARIA Y KINDER</td>\n",
       "      <td>7</td>\n",
       "      <td>8</td>\n",
       "      <td>0</td>\n",
       "      <td>Matutino</td>\n",
       "      <td>Natural</td>\n",
       "      <td>Ángel Cervantes</td>\n",
       "    </tr>\n",
       "    <tr>\n",
       "      <th>...</th>\n",
       "      <td>...</td>\n",
       "      <td>...</td>\n",
       "      <td>...</td>\n",
       "      <td>...</td>\n",
       "      <td>...</td>\n",
       "      <td>...</td>\n",
       "      <td>...</td>\n",
       "      <td>...</td>\n",
       "      <td>...</td>\n",
       "    </tr>\n",
       "    <tr>\n",
       "      <th>91843</th>\n",
       "      <td>95</td>\n",
       "      <td>2025-10-14</td>\n",
       "      <td>TELEMUNDO</td>\n",
       "      <td>0</td>\n",
       "      <td>0</td>\n",
       "      <td>0</td>\n",
       "      <td>Mixto</td>\n",
       "      <td>NATURAL</td>\n",
       "      <td>Guillermina Vázquez</td>\n",
       "    </tr>\n",
       "    <tr>\n",
       "      <th>91844</th>\n",
       "      <td>93</td>\n",
       "      <td>2025-10-14</td>\n",
       "      <td>SOFTTEK POLANCO</td>\n",
       "      <td>0</td>\n",
       "      <td>0</td>\n",
       "      <td>0</td>\n",
       "      <td>Mixto</td>\n",
       "      <td>NATURAL</td>\n",
       "      <td>Karla Gómez</td>\n",
       "    </tr>\n",
       "    <tr>\n",
       "      <th>91845</th>\n",
       "      <td>78</td>\n",
       "      <td>2025-10-14</td>\n",
       "      <td>PM STEELE</td>\n",
       "      <td>0</td>\n",
       "      <td>0</td>\n",
       "      <td>0</td>\n",
       "      <td>Mixto</td>\n",
       "      <td>NATURAL</td>\n",
       "      <td>Ángel Cervantes</td>\n",
       "    </tr>\n",
       "    <tr>\n",
       "      <th>91846</th>\n",
       "      <td>67</td>\n",
       "      <td>2025-10-14</td>\n",
       "      <td>MCCANN</td>\n",
       "      <td>0</td>\n",
       "      <td>0</td>\n",
       "      <td>0</td>\n",
       "      <td>Mixto</td>\n",
       "      <td>NATURAL</td>\n",
       "      <td>Ángel Cervantes</td>\n",
       "    </tr>\n",
       "    <tr>\n",
       "      <th>91847</th>\n",
       "      <td>59</td>\n",
       "      <td>2025-10-14</td>\n",
       "      <td>INSTITUTO REGINA</td>\n",
       "      <td>10</td>\n",
       "      <td>10</td>\n",
       "      <td>0</td>\n",
       "      <td>Mixto</td>\n",
       "      <td>NATURAL</td>\n",
       "      <td>Ángel Cervantes</td>\n",
       "    </tr>\n",
       "  </tbody>\n",
       "</table>\n",
       "<p>91848 rows × 9 columns</p>\n",
       "</div>"
      ],
      "text/plain": [
       "        id Fecha del reporte                      Sitio  Plantilla  Activos  \\\n",
       "0      241        2025-03-01        LIVERPOOL PERINORTE         14       11   \n",
       "1      358        2025-03-01   AMERICAN EXPRESS POLANCO         14       15   \n",
       "2      357        2025-03-01        LIVERPOOL JILOTEPEC         13       13   \n",
       "3      183        2025-03-01       LIVERPOOL INTERLOMAS         27       27   \n",
       "4       80        2025-03-01  CUMBRES PRIMARIA Y KINDER          7        8   \n",
       "...    ...               ...                        ...        ...      ...   \n",
       "91843   95        2025-10-14                  TELEMUNDO          0        0   \n",
       "91844   93        2025-10-14            SOFTTEK POLANCO          0        0   \n",
       "91845   78        2025-10-14                  PM STEELE          0        0   \n",
       "91846   67        2025-10-14                     MCCANN          0        0   \n",
       "91847   59        2025-10-14           INSTITUTO REGINA         10       10   \n",
       "\n",
       "       Vacante     Turno     Tipo            Ejecutivo  \n",
       "0            3  Matutino  Natural       Karina Sánchez  \n",
       "1            0  Matutino  Natural      Ángel Cervantes  \n",
       "2            0  Matutino  Natural       Oscar Castillo  \n",
       "3            0  Matutino  Natural         Abel Vázquez  \n",
       "4            0  Matutino  Natural      Ángel Cervantes  \n",
       "...        ...       ...      ...                  ...  \n",
       "91843        0     Mixto  NATURAL  Guillermina Vázquez  \n",
       "91844        0     Mixto  NATURAL          Karla Gómez  \n",
       "91845        0     Mixto  NATURAL      Ángel Cervantes  \n",
       "91846        0     Mixto  NATURAL      Ángel Cervantes  \n",
       "91847        0     Mixto  NATURAL      Ángel Cervantes  \n",
       "\n",
       "[91848 rows x 9 columns]"
      ]
     },
     "execution_count": 63,
     "metadata": {},
     "output_type": "execute_result"
    }
   ],
   "source": [
    "vacantes"
   ]
  },
  {
   "cell_type": "code",
   "execution_count": 64,
   "id": "d9675870",
   "metadata": {},
   "outputs": [
    {
     "name": "stdout",
     "output_type": "stream",
     "text": [
      "Series([], dtype: int64)\n"
     ]
    }
   ],
   "source": [
    "duplicados = vacantes.groupby(['Sitio', 'Turno', 'Fecha del reporte']).size()\n",
    "duplicados = duplicados[duplicados > 1]\n",
    "print(duplicados)"
   ]
  },
  {
   "cell_type": "code",
   "execution_count": 65,
   "id": "e343450f",
   "metadata": {},
   "outputs": [],
   "source": [
    "\n",
    "vacantes['Fecha del reporte'] = pd.to_datetime(vacantes['Fecha del reporte'])\n",
    "vacantes['Fecha del reporte'] = vacantes['Fecha del reporte'].dt.date\n",
    "vacantes = vacantes[['Sitio','Turno','Fecha del reporte','Vacante']]\n",
    "tabla_pivot = vacantes.pivot(\n",
    "    index=['Sitio', 'Turno'],\n",
    "    columns='Fecha del reporte',\n",
    "    values='Vacante', \n",
    ")\n",
    "\n",
    "tabla_pivot = tabla_pivot.reset_index()\n",
    "tabla_pivot = tabla_pivot.fillna(0)\n",
    "fechas = tabla_pivot.columns[2:]"
   ]
  },
  {
   "cell_type": "code",
   "execution_count": 66,
   "id": "0db5b459",
   "metadata": {},
   "outputs": [],
   "source": [
    "total_vacantes = np.sum(tabla_pivot.iloc[:,-1])\n",
    "total_vacantes = int(total_vacantes)"
   ]
  },
  {
   "cell_type": "code",
   "execution_count": 67,
   "id": "02df5e8b",
   "metadata": {},
   "outputs": [],
   "source": [
    "vacantes_cubiertas = {}\n",
    "for i in range(len(fechas) - 1):\n",
    "    vacantes_cubiertas[f'cubiertas: {fechas[i]} - {fechas[i+1]}'] = (\n",
    "        tabla_pivot[fechas[i]] - tabla_pivot[fechas[i+1]]\n",
    "    ).clip(lower=0)\n",
    "\n",
    "vacantes_nuevas = {}\n",
    "for i in range(len(fechas) - 1):\n",
    "    vacantes_nuevas[f'Nuevas: {fechas[i+1]} - {fechas[i]}'] = (\n",
    "        tabla_pivot[fechas[i+1]] - tabla_pivot[fechas[i]]\n",
    "    ).clip(lower=0)\n",
    "\n",
    "sinmov = {}\n",
    "for i in range(len(fechas) - 1):\n",
    "    sinmov[f'Sin movimiento: min({fechas[i+1]},{fechas[i]})'] = tabla_pivot[[fechas[i+1], fechas[i]]].min(axis=1)"
   ]
  },
  {
   "cell_type": "code",
   "execution_count": 68,
   "id": "6d7cf4da",
   "metadata": {},
   "outputs": [],
   "source": [
    "vacantes_cubiertas = pd.DataFrame(vacantes_cubiertas).fillna(0)\n",
    "vacantes_cubiertas_totales = int(np.sum(np.array(vacantes_cubiertas.iloc[:,-1])))\n",
    "vacantes_nuevas = pd.DataFrame(vacantes_nuevas).fillna(0)\n",
    "vacantes_nuevas_totales = int(np.sum(np.array(vacantes_nuevas.iloc[:,-1])))\n",
    "sinmov = pd.DataFrame(sinmov).fillna(0)\n",
    "vacantes_sinmov_totales= int(np.sum(np.array(sinmov.iloc[:,-1])))"
   ]
  },
  {
   "cell_type": "code",
   "execution_count": 69,
   "id": "3eee1953",
   "metadata": {},
   "outputs": [
    {
     "name": "stdout",
     "output_type": "stream",
     "text": [
      "0\n",
      "10\n",
      "22\n",
      "32\n"
     ]
    }
   ],
   "source": [
    "print(vacantes_cubiertas_totales)\n",
    "print(vacantes_nuevas_totales)\n",
    "print(vacantes_sinmov_totales)\n",
    "print(total_vacantes)"
   ]
  },
  {
   "cell_type": "code",
   "execution_count": 70,
   "id": "b9549beb",
   "metadata": {},
   "outputs": [
    {
     "name": "stderr",
     "output_type": "stream",
     "text": [
      "C:\\Users\\centro.control\\AppData\\Local\\Temp\\ipykernel_27572\\4116121981.py:3: FutureWarning: Series.__getitem__ treating keys as positions is deprecated. In a future version, integer keys will always be treated as labels (consistent with DataFrame behavior). To access a value by position, use `ser.iloc[pos]`\n",
      "  for val in reversed(fila):\n"
     ]
    }
   ],
   "source": [
    "def contar_no_ceros_consecutivos(fila):\n",
    "    contador = 0\n",
    "    for val in reversed(fila):\n",
    "        if val != 0:\n",
    "            contador += 1\n",
    "        else:\n",
    "            break\n",
    "    return contador\n",
    "\n",
    "conteos = sinmov.apply(contar_no_ceros_consecutivos, axis=1)\n",
    "\n",
    "\n",
    "conteos= [x+1 if x!=0 else 0 for x in conteos ]\n",
    "\n",
    "\n",
    "sinmov['Dias con vacantes']=conteos\n",
    "sinmov['Turno'] = tabla_pivot['Turno']\n",
    "sinmov['Sitios'] = tabla_pivot['Sitio']\n",
    "resumen=sinmov[['Sitios','Turno', 'Dias con vacantes']].sort_values(by='Dias con vacantes', ascending= False)\n",
    "\n",
    "vacantes_top5 = resumen.head(5)"
   ]
  },
  {
   "cell_type": "code",
   "execution_count": 71,
   "id": "824fa721",
   "metadata": {},
   "outputs": [],
   "source": [
    "html_vacantes = \"\\n\".join(\n",
    "    f\"<li>{row['Sitios']} ({row['Turno']}): <strong>{row['Dias con vacantes']} días</strong></li>\"\n",
    "    for _, row in vacantes_top5.iterrows()\n",
    ")\n"
   ]
  },
  {
   "cell_type": "markdown",
   "id": "137890e2",
   "metadata": {},
   "source": [
    "# UB"
   ]
  },
  {
   "cell_type": "code",
   "execution_count": 72,
   "id": "61dd77a9",
   "metadata": {},
   "outputs": [],
   "source": [
    "\n",
    "ub_bajos= ub[['sitio','turno', 'Unnamed: 14']]\n",
    "ub_certificados = ub.groupby(['sitio', 'turno']).agg(\n",
    "    total = ('Unnamed: 14', 'count'),\n",
    "    Certificados= ('Unnamed: 14','sum')\n",
    ")\n",
    "\n",
    "ub_certificados[\"% de certificados\"] = ((ub_certificados['Certificados']*100/ub_certificados['total'])).round(2)\n",
    "ub_certificados = ub_certificados.reset_index()\n",
    "ub_certificados=ub_certificados[(ub_certificados['sitio'] != 'CAPACITADORES BENNETTS') & (ub_certificados['sitio'] != 'SHEIN') &\n",
    "(ub_certificados['sitio'] != 'CCGENERI PRE ALTAS') & (ub_certificados['sitio'] != 'CONTINNUO EVENTOS') & (ub_certificados['sitio'] != 'MEDICINA METABOLICA')]\n",
    "\n",
    "\n",
    "top_5_ub = ub_certificados[['sitio','turno',\"% de certificados\"]].sort_values(by=\"% de certificados\").head(5)"
   ]
  },
  {
   "cell_type": "code",
   "execution_count": 73,
   "id": "68f6f698",
   "metadata": {},
   "outputs": [
    {
     "data": {
      "text/html": [
       "<div>\n",
       "<style scoped>\n",
       "    .dataframe tbody tr th:only-of-type {\n",
       "        vertical-align: middle;\n",
       "    }\n",
       "\n",
       "    .dataframe tbody tr th {\n",
       "        vertical-align: top;\n",
       "    }\n",
       "\n",
       "    .dataframe thead th {\n",
       "        text-align: right;\n",
       "    }\n",
       "</style>\n",
       "<table border=\"1\" class=\"dataframe\">\n",
       "  <thead>\n",
       "    <tr style=\"text-align: right;\">\n",
       "      <th></th>\n",
       "      <th>sitio</th>\n",
       "      <th>turno</th>\n",
       "      <th>% de certificados</th>\n",
       "    </tr>\n",
       "  </thead>\n",
       "  <tbody>\n",
       "    <tr>\n",
       "      <th>53</th>\n",
       "      <td>CL01601 DESPEGAR</td>\n",
       "      <td>Matutino</td>\n",
       "      <td>0.0</td>\n",
       "    </tr>\n",
       "    <tr>\n",
       "      <th>89</th>\n",
       "      <td>CL02901 KRISPY KREME</td>\n",
       "      <td>Vespertino</td>\n",
       "      <td>0.0</td>\n",
       "    </tr>\n",
       "    <tr>\n",
       "      <th>88</th>\n",
       "      <td>CL02901 KRISPY KREME</td>\n",
       "      <td>Nocturno</td>\n",
       "      <td>0.0</td>\n",
       "    </tr>\n",
       "    <tr>\n",
       "      <th>205</th>\n",
       "      <td>PLANET FITNESS ACOXPA</td>\n",
       "      <td>Nocturno</td>\n",
       "      <td>0.0</td>\n",
       "    </tr>\n",
       "    <tr>\n",
       "      <th>209</th>\n",
       "      <td>PLANET FITNESS MIXCOAC</td>\n",
       "      <td>Vespertino</td>\n",
       "      <td>0.0</td>\n",
       "    </tr>\n",
       "  </tbody>\n",
       "</table>\n",
       "</div>"
      ],
      "text/plain": [
       "                      sitio       turno  % de certificados\n",
       "53         CL01601 DESPEGAR    Matutino                0.0\n",
       "89     CL02901 KRISPY KREME  Vespertino                0.0\n",
       "88     CL02901 KRISPY KREME    Nocturno                0.0\n",
       "205   PLANET FITNESS ACOXPA    Nocturno                0.0\n",
       "209  PLANET FITNESS MIXCOAC  Vespertino                0.0"
      ]
     },
     "execution_count": 73,
     "metadata": {},
     "output_type": "execute_result"
    }
   ],
   "source": [
    "top_5_ub"
   ]
  },
  {
   "cell_type": "code",
   "execution_count": 74,
   "id": "cb1715e1",
   "metadata": {},
   "outputs": [],
   "source": [
    "html_ub = \"\\n\".join(\n",
    "    f\"<li>{filas['sitio']} ({filas['turno']}): <strong>{filas['% de certificados']} %</strong></li>\"\n",
    "    for _, filas in top_5_ub.iterrows()\n",
    ")"
   ]
  },
  {
   "cell_type": "markdown",
   "id": "6bdc3db9",
   "metadata": {},
   "source": [
    "# Importar a HTML"
   ]
  },
  {
   "cell_type": "code",
   "execution_count": 75,
   "id": "9070e3db",
   "metadata": {},
   "outputs": [],
   "source": [
    "# Leer tu archivo HTML base\n",
    "with open(\"C:\\\\Users\\\\centro.control\\\\Documents\\\\code (1) - copia.html\", \"r\", encoding=\"utf-8\") as f:\n",
    "    html = f.read()\n",
    "\n",
    "# Reemplazar los marcadores por los valores\n",
    "html = html.replace(\"{{ticket_abiertos}}\", str(tickets_abiertos))\n",
    "html = html.replace(\"{{ticket_nuevos}}\", str(ticket_nuevos))\n",
    "html = html.replace(\"{{ticket_cerrados}}\", str(ticket_cerrados))\n",
    "html = html.replace(\"{{ticket_xvencer}}\", str(ticket_xvencer))\n",
    "html = html.replace(\"{{%_de_Rutinas}}\", str(total_rutinas)+\"%\")\n",
    "html = html.replace(\"{{lista_vacantes}}\", html_vacantes)\n",
    "html = html.replace(\"{{lista_ub}}\", html_ub)\n",
    "html = html.replace(\"{{fecha}}\", str(hoy))\n",
    "html = html.replace(\"{{vacantes_cubiertas_totales}}\", str(vacantes_cubiertas_totales))\n",
    "html = html.replace(\"{{Total_de_vacantes_actuales}}\", str(total_vacantes))\n",
    "html = html.replace(\"{{vacantes_nuevas_total}}\", str(vacantes_nuevas_totales))\n",
    "html = html.replace(\"{{vacantes_sinmov_totales}}\", str(vacantes_sinmov_totales))\n",
    "\n",
    "# Guardar el HTML con los valores ya insertados\n",
    "with open(\"C:\\\\Users\\\\centro.control\\\\Documents\\\\reporte_tickets.html\", \"w\", encoding=\"utf-8\") as f:\n",
    "    f.write(html)"
   ]
  }
 ],
 "metadata": {
  "kernelspec": {
   "display_name": "Python 3",
   "language": "python",
   "name": "python3"
  },
  "language_info": {
   "codemirror_mode": {
    "name": "ipython",
    "version": 3
   },
   "file_extension": ".py",
   "mimetype": "text/x-python",
   "name": "python",
   "nbconvert_exporter": "python",
   "pygments_lexer": "ipython3",
   "version": "3.13.2"
  }
 },
 "nbformat": 4,
 "nbformat_minor": 5
}
